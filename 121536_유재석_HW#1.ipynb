{
 "cells": [
  {
   "cell_type": "code",
   "execution_count": 59,
   "metadata": {},
   "outputs": [],
   "source": [
    "import pandas as pd\n",
    "import numpy as np\n",
    "import matplotlib.pyplot as plt\n",
    "import seaborn as sns\n",
    "import statsmodels.api as sm\n",
    "from sklearn.linear_model import LinearRegression"
   ]
  },
  {
   "cell_type": "code",
   "execution_count": 60,
   "metadata": {},
   "outputs": [
    {
     "data": {
      "text/html": [
       "<div>\n",
       "<style scoped>\n",
       "    .dataframe tbody tr th:only-of-type {\n",
       "        vertical-align: middle;\n",
       "    }\n",
       "\n",
       "    .dataframe tbody tr th {\n",
       "        vertical-align: top;\n",
       "    }\n",
       "\n",
       "    .dataframe thead th {\n",
       "        text-align: right;\n",
       "    }\n",
       "</style>\n",
       "<table border=\"1\" class=\"dataframe\">\n",
       "  <thead>\n",
       "    <tr style=\"text-align: right;\">\n",
       "      <th></th>\n",
       "      <th>YearsExperience</th>\n",
       "      <th>Salary</th>\n",
       "    </tr>\n",
       "  </thead>\n",
       "  <tbody>\n",
       "    <tr>\n",
       "      <th>0</th>\n",
       "      <td>1.1</td>\n",
       "      <td>39343.0</td>\n",
       "    </tr>\n",
       "    <tr>\n",
       "      <th>1</th>\n",
       "      <td>1.3</td>\n",
       "      <td>46205.0</td>\n",
       "    </tr>\n",
       "    <tr>\n",
       "      <th>2</th>\n",
       "      <td>1.5</td>\n",
       "      <td>37731.0</td>\n",
       "    </tr>\n",
       "    <tr>\n",
       "      <th>3</th>\n",
       "      <td>2.0</td>\n",
       "      <td>43525.0</td>\n",
       "    </tr>\n",
       "    <tr>\n",
       "      <th>4</th>\n",
       "      <td>2.2</td>\n",
       "      <td>39891.0</td>\n",
       "    </tr>\n",
       "    <tr>\n",
       "      <th>5</th>\n",
       "      <td>2.9</td>\n",
       "      <td>56642.0</td>\n",
       "    </tr>\n",
       "    <tr>\n",
       "      <th>6</th>\n",
       "      <td>3.0</td>\n",
       "      <td>60150.0</td>\n",
       "    </tr>\n",
       "    <tr>\n",
       "      <th>7</th>\n",
       "      <td>3.2</td>\n",
       "      <td>54445.0</td>\n",
       "    </tr>\n",
       "    <tr>\n",
       "      <th>8</th>\n",
       "      <td>3.2</td>\n",
       "      <td>64445.0</td>\n",
       "    </tr>\n",
       "    <tr>\n",
       "      <th>9</th>\n",
       "      <td>3.7</td>\n",
       "      <td>57189.0</td>\n",
       "    </tr>\n",
       "    <tr>\n",
       "      <th>10</th>\n",
       "      <td>3.9</td>\n",
       "      <td>63218.0</td>\n",
       "    </tr>\n",
       "    <tr>\n",
       "      <th>11</th>\n",
       "      <td>4.0</td>\n",
       "      <td>55794.0</td>\n",
       "    </tr>\n",
       "    <tr>\n",
       "      <th>12</th>\n",
       "      <td>4.0</td>\n",
       "      <td>56957.0</td>\n",
       "    </tr>\n",
       "    <tr>\n",
       "      <th>13</th>\n",
       "      <td>4.1</td>\n",
       "      <td>57081.0</td>\n",
       "    </tr>\n",
       "    <tr>\n",
       "      <th>14</th>\n",
       "      <td>4.5</td>\n",
       "      <td>61111.0</td>\n",
       "    </tr>\n",
       "    <tr>\n",
       "      <th>15</th>\n",
       "      <td>4.9</td>\n",
       "      <td>67938.0</td>\n",
       "    </tr>\n",
       "    <tr>\n",
       "      <th>16</th>\n",
       "      <td>5.1</td>\n",
       "      <td>66029.0</td>\n",
       "    </tr>\n",
       "    <tr>\n",
       "      <th>17</th>\n",
       "      <td>5.3</td>\n",
       "      <td>83088.0</td>\n",
       "    </tr>\n",
       "    <tr>\n",
       "      <th>18</th>\n",
       "      <td>5.9</td>\n",
       "      <td>81363.0</td>\n",
       "    </tr>\n",
       "    <tr>\n",
       "      <th>19</th>\n",
       "      <td>6.0</td>\n",
       "      <td>93940.0</td>\n",
       "    </tr>\n",
       "    <tr>\n",
       "      <th>20</th>\n",
       "      <td>6.8</td>\n",
       "      <td>91738.0</td>\n",
       "    </tr>\n",
       "    <tr>\n",
       "      <th>21</th>\n",
       "      <td>7.1</td>\n",
       "      <td>98273.0</td>\n",
       "    </tr>\n",
       "    <tr>\n",
       "      <th>22</th>\n",
       "      <td>7.9</td>\n",
       "      <td>101302.0</td>\n",
       "    </tr>\n",
       "    <tr>\n",
       "      <th>23</th>\n",
       "      <td>8.2</td>\n",
       "      <td>113812.0</td>\n",
       "    </tr>\n",
       "    <tr>\n",
       "      <th>24</th>\n",
       "      <td>8.7</td>\n",
       "      <td>109431.0</td>\n",
       "    </tr>\n",
       "    <tr>\n",
       "      <th>25</th>\n",
       "      <td>9.0</td>\n",
       "      <td>105582.0</td>\n",
       "    </tr>\n",
       "    <tr>\n",
       "      <th>26</th>\n",
       "      <td>9.5</td>\n",
       "      <td>116969.0</td>\n",
       "    </tr>\n",
       "    <tr>\n",
       "      <th>27</th>\n",
       "      <td>9.6</td>\n",
       "      <td>112635.0</td>\n",
       "    </tr>\n",
       "    <tr>\n",
       "      <th>28</th>\n",
       "      <td>10.3</td>\n",
       "      <td>122391.0</td>\n",
       "    </tr>\n",
       "    <tr>\n",
       "      <th>29</th>\n",
       "      <td>10.5</td>\n",
       "      <td>121872.0</td>\n",
       "    </tr>\n",
       "  </tbody>\n",
       "</table>\n",
       "</div>"
      ],
      "text/plain": [
       "    YearsExperience    Salary\n",
       "0               1.1   39343.0\n",
       "1               1.3   46205.0\n",
       "2               1.5   37731.0\n",
       "3               2.0   43525.0\n",
       "4               2.2   39891.0\n",
       "5               2.9   56642.0\n",
       "6               3.0   60150.0\n",
       "7               3.2   54445.0\n",
       "8               3.2   64445.0\n",
       "9               3.7   57189.0\n",
       "10              3.9   63218.0\n",
       "11              4.0   55794.0\n",
       "12              4.0   56957.0\n",
       "13              4.1   57081.0\n",
       "14              4.5   61111.0\n",
       "15              4.9   67938.0\n",
       "16              5.1   66029.0\n",
       "17              5.3   83088.0\n",
       "18              5.9   81363.0\n",
       "19              6.0   93940.0\n",
       "20              6.8   91738.0\n",
       "21              7.1   98273.0\n",
       "22              7.9  101302.0\n",
       "23              8.2  113812.0\n",
       "24              8.7  109431.0\n",
       "25              9.0  105582.0\n",
       "26              9.5  116969.0\n",
       "27              9.6  112635.0\n",
       "28             10.3  122391.0\n",
       "29             10.5  121872.0"
      ]
     },
     "execution_count": 60,
     "metadata": {},
     "output_type": "execute_result"
    }
   ],
   "source": [
    "df = pd.read_csv(\"SalaryData.csv\")\n",
    "df"
   ]
  },
  {
   "cell_type": "markdown",
   "metadata": {},
   "source": [
    "## HW#1 Problem#1"
   ]
  },
  {
   "cell_type": "markdown",
   "metadata": {},
   "source": [
    "Cost 함수를 정의"
   ]
  },
  {
   "cell_type": "code",
   "execution_count": 61,
   "metadata": {},
   "outputs": [],
   "source": [
    "def compute_cost(n, m, points):\n",
    "    total_cost = 0;\n",
    "    N = float(len(points)); #코스트 값을 나눌때 자동형변환을 방지하기위해 float로 형변환\n",
    "    \n",
    "    for i in range(len(points)):\n",
    "        x = points[i,0];\n",
    "        y = points[i,1];\n",
    "        total_cost += (y-(m*x+n))**2; #에러값의 제곱\n",
    "    \n",
    "    return total_cost/N; #에러값의 제곱값의 합을 개수로 나눈것을 코스트값이라 정의한다"
   ]
  },
  {
   "cell_type": "markdown",
   "metadata": {},
   "source": [
    "Step Gradient 함수를 정의"
   ]
  },
  {
   "cell_type": "code",
   "execution_count": 62,
   "metadata": {},
   "outputs": [],
   "source": [
    "def step_gradient(m_current, n_current, points, learing_rate):\n",
    "    m_gradient = 0;\n",
    "    n_gradient = 0;\n",
    "    N = float(len(points));\n",
    "    \n",
    "    #현재 m,n 값에서의 기울기(경사도)를 구한다\n",
    "    for i in range(len(points)):\n",
    "        x = points[i,0];\n",
    "        y = points[i,1];\n",
    "        m_gradient += -(2/N)*x*(y-(m_current*x + n_current));\n",
    "        n_gradient += -(2/N)*(y-(m_current*x + n_current));\n",
    "        \n",
    "        \n",
    "    #위에서 구한 경사도에 따라 경사를 따라 내려간다\n",
    "    m_updated = m_current - learing_rate * m_gradient;\n",
    "    n_updated = n_current - learning_rate * n_gradient;\n",
    "    \n",
    "    return m_updated, n_updated; #업데이트 된 값을 반환한다\n",
    "    "
   ]
  },
  {
   "cell_type": "markdown",
   "metadata": {},
   "source": [
    "Gradient Descent 함수를 정의"
   ]
  },
  {
   "cell_type": "code",
   "execution_count": 63,
   "metadata": {},
   "outputs": [],
   "source": [
    "def gradient_descent_runner(points, starting_m, starting_n, learning_rate, num_iterations):\n",
    "    #초기값으로 부터 gradient descent를 실행한다\n",
    "    m= starting_m;\n",
    "    n = starting_n;\n",
    "    \n",
    "    cost_graph = [];\n",
    "    \n",
    "    #원하는 반복 수 만큼 경사를 따라 내려간다\n",
    "    for i in range(num_iterations):\n",
    "        cost_graph.append(compute_cost(n, m ,points)); #현재 m,n,points에 따른 코스트 값\n",
    "        m, n = step_gradient(m, n, points, learning_rate); #경사를 내려가는 스텝\n",
    "        \n",
    "    return [m,n,cost_graph]\n",
    "        "
   ]
  },
  {
   "cell_type": "code",
   "execution_count": 64,
   "metadata": {},
   "outputs": [],
   "source": [
    "learning_rate = 0.01     # hyper parameter: alpha\n",
    "num_iterations = 100    # hyper parameter: number of steps \n",
    "initial_m = 10      # initial guess for m \n",
    "initial_n = 4000      # initial guess for n \n",
    "points = np.array(df)\n",
    "gd_iterations = 10; #GD를 반복하는 횟수 \n",
    "\n",
    "#각 gd스텝을 저장할 m,n의 리스트\n",
    "m_list = [];\n",
    "n_list = [];\n",
    "\n",
    "#0번째 값\n",
    "m_list.append(initial_m);\n",
    "n_list.append(initial_n);\n",
    "\n",
    "for i in range(gd_iterations):\n",
    "    m, n , cost_graph = gradient_descent_runner(points, initial_m, initial_n, learning_rate, num_iterations)\n",
    "    m_list.append(m);\n",
    "    n_list.append(n);\n",
    "    initial_m = m;\n",
    "    initial_n = n;\n",
    "    \n"
   ]
  },
  {
   "cell_type": "code",
   "execution_count": 65,
   "metadata": {},
   "outputs": [
    {
     "data": {
      "text/plain": [
       "[10,\n",
       " 11387.681722431003,\n",
       " 10718.122513878412,\n",
       " 10279.922672183473,\n",
       " 9993.138323900717,\n",
       " 9805.44938704067,\n",
       " 9682.614451206155,\n",
       " 9602.223876706179,\n",
       " 9549.611446663128,\n",
       " 9515.178706105513,\n",
       " 9492.643848442833]"
      ]
     },
     "execution_count": 65,
     "metadata": {},
     "output_type": "execute_result"
    }
   ],
   "source": [
    "m_list"
   ]
  },
  {
   "cell_type": "code",
   "execution_count": 66,
   "metadata": {},
   "outputs": [
    {
     "data": {
      "text/plain": [
       "[4000,\n",
       " 12734.42345759065,\n",
       " 17246.40525217312,\n",
       " 20199.317680023323,\n",
       " 22131.881285892032,\n",
       " 23396.667215709564,\n",
       " 24224.419245917816,\n",
       " 24766.149990513233,\n",
       " 25120.69119238269,\n",
       " 25352.724291993673,\n",
       " 25504.580716666438]"
      ]
     },
     "execution_count": 66,
     "metadata": {},
     "output_type": "execute_result"
    }
   ],
   "source": [
    "n_list"
   ]
  },
  {
   "cell_type": "code",
   "execution_count": 67,
   "metadata": {},
   "outputs": [
    {
     "data": {
      "image/png": "[encoded data removed]",
      "text/plain": [
       "<Figure size 432x288 with 1 Axes>"
      ]
     },
     "metadata": {
      "needs_background": "light"
     },
     "output_type": "display_data"
    }
   ],
   "source": [
    "\n",
    "%matplotlib inline \n",
    "import matplotlib.pyplot as plt\n",
    "x = np.array(points[:,0])\n",
    "y = np.array(points[:,1])\n",
    "plt.scatter(x,y)\n",
    "\n",
    "color_list = [];\n",
    "init_color = 0.6;\n",
    "def_color = 0.05;\n",
    "\n",
    "for i in range(gd_iterations+1):\n",
    "    this_color = [init_color - def_color*i,init_color - def_color*i,init_color - def_color*i];\n",
    "    color_list.append(this_color);\n",
    "    \n",
    "\n",
    "\n",
    "#첫번째 값까지 계산했을때 하나 더 추가해야함\n",
    "for i in range(gd_iterations+1):\n",
    "    pred = m_list[i]*x + n_list[i] \n",
    "    plt.plot(x,pred, color=color_list[i])\n",
    "    \n",
    "plt.show()"
   ]
  },
  {
   "cell_type": "markdown",
   "metadata": {},
   "source": [
    "## HW#1 Problem#2"
   ]
  },
  {
   "cell_type": "code",
   "execution_count": 68,
   "metadata": {},
   "outputs": [],
   "source": [
    "x = np.array(points[:,0])\n",
    "y = np.array(points[:,1])"
   ]
  },
  {
   "cell_type": "code",
   "execution_count": 69,
   "metadata": {},
   "outputs": [],
   "source": [
    "#행방향으로 되어있는 배열을 열방향으로 바꾼다\n",
    "y = y.reshape(-1,1);\n",
    "x = x.reshape(-1,1);"
   ]
  },
  {
   "cell_type": "code",
   "execution_count": 70,
   "metadata": {},
   "outputs": [],
   "source": [
    "#x 배열에 값이 1인 열을 추가하기 위한 x0값을 설정한다\n",
    "x0 = np.ones(len(x))\n",
    "x0 = x0.reshape(-1,1);"
   ]
  },
  {
   "cell_type": "code",
   "execution_count": 71,
   "metadata": {},
   "outputs": [],
   "source": [
    "#x 배열에 x0 열 배열을 추가한다\n",
    "x = np.hstack((x0,x))"
   ]
  },
  {
   "cell_type": "markdown",
   "metadata": {},
   "source": [
    "$\\hat{\\theta} = (X^TX)^{-1} X^TY $"
   ]
  },
  {
   "cell_type": "markdown",
   "metadata": {},
   "source": [
    "우선 $ (X^TX)^{-1} $ 값을 구한다"
   ]
  },
  {
   "cell_type": "code",
   "execution_count": 72,
   "metadata": {},
   "outputs": [
    {
     "data": {
      "text/plain": [
       "array([[ 0.15421086, -0.02274985],\n",
       "       [-0.02274985,  0.00428165]])"
      ]
     },
     "execution_count": 72,
     "metadata": {},
     "output_type": "execute_result"
    }
   ],
   "source": [
    "xt = np.transpose(x)\n",
    "xtx = np.dot(xt,x)\n",
    "xtx_inv = np.linalg.inv(xtx)\n",
    "xtx_inv"
   ]
  },
  {
   "cell_type": "markdown",
   "metadata": {},
   "source": [
    " 다음으로 $ X^TY $ 값을 구한다"
   ]
  },
  {
   "cell_type": "code",
   "execution_count": 73,
   "metadata": {
    "scrolled": true
   },
   "outputs": [
    {
     "data": {
      "text/plain": [
       "array([[ 2280090.],\n",
       "       [14321961.]])"
      ]
     },
     "execution_count": 73,
     "metadata": {},
     "output_type": "execute_result"
    }
   ],
   "source": [
    "xty = np.dot(xt,y)\n",
    "xty"
   ]
  },
  {
   "cell_type": "markdown",
   "metadata": {},
   "source": [
    "두 값의 행렬 곱으로 theta 값을 구한다"
   ]
  },
  {
   "cell_type": "code",
   "execution_count": 74,
   "metadata": {},
   "outputs": [
    {
     "data": {
      "text/plain": [
       "array([[25792.20019867],\n",
       "       [ 9449.96232146]])"
      ]
     },
     "execution_count": 74,
     "metadata": {},
     "output_type": "execute_result"
    }
   ],
   "source": [
    "theta = np.dot(xtx_inv,xty)\n",
    "theta"
   ]
  },
  {
   "cell_type": "markdown",
   "metadata": {},
   "source": [
    "위에서 구한 n과 theta0 과의 차이와 오차율"
   ]
  },
  {
   "cell_type": "code",
   "execution_count": 75,
   "metadata": {
    "scrolled": true
   },
   "outputs": [
    {
     "name": "stdout",
     "output_type": "stream",
     "text": [
      "287.61948200231564\n",
      "1.12%\n"
     ]
    }
   ],
   "source": [
    "defn = abs(n- theta[0][0])\n",
    "defn_percent = defn/theta[0][0]*100\n",
    "print(defn)\n",
    "print(round(defn_percent,2),\"%\",sep=\"\")"
   ]
  },
  {
   "cell_type": "markdown",
   "metadata": {},
   "source": [
    "위에서 구한 m과 theta1 과의 차이와 오차율"
   ]
  },
  {
   "cell_type": "code",
   "execution_count": 76,
   "metadata": {},
   "outputs": [
    {
     "name": "stdout",
     "output_type": "stream",
     "text": [
      "42.68152698775884\n",
      "0.45%\n"
     ]
    }
   ],
   "source": [
    "defm = abs(m-theta[1][0])\n",
    "defm_percent = defm/theta[1][0]*100\n",
    "print(defm)\n",
    "print(round(defm_percent,2),\"%\",sep=\"\")"
   ]
  },
  {
   "cell_type": "markdown",
   "metadata": {},
   "source": [
    "## HW#1 Problem#3"
   ]
  },
  {
   "cell_type": "markdown",
   "metadata": {},
   "source": [
    "데이터"
   ]
  },
  {
   "cell_type": "code",
   "execution_count": 77,
   "metadata": {},
   "outputs": [],
   "source": [
    "np.random.seed(0)\n",
    "x_init = 2 - 3 * np.random.normal(0, 1, 20)\n",
    "y_init = x_init - 2 * (x_init ** 2) + 0.5 * (x_init ** 3) + np.random.normal(-3, 3, 20)"
   ]
  },
  {
   "cell_type": "code",
   "execution_count": 78,
   "metadata": {
    "scrolled": true
   },
   "outputs": [
    {
     "data": {
      "text/plain": [
       "<matplotlib.collections.PathCollection at 0x16debf853c8>"
      ]
     },
     "execution_count": 78,
     "metadata": {},
     "output_type": "execute_result"
    },
    {
     "data": {
      "image/png": "[encoded data removed]",
      "text/plain": [
       "<Figure size 432x288 with 1 Axes>"
      ]
     },
     "metadata": {
      "needs_background": "light"
     },
     "output_type": "display_data"
    }
   ],
   "source": [
    "plt.scatter(x_init, y_init, s=10)"
   ]
  },
  {
   "cell_type": "code",
   "execution_count": 79,
   "metadata": {},
   "outputs": [],
   "source": [
    "#행방향으로 되어있는 배열을 열방향으로 바꾼다\n",
    "y = y_init.reshape(-1,1);\n",
    "x = x_init.reshape(-1,1);"
   ]
  },
  {
   "cell_type": "code",
   "execution_count": 80,
   "metadata": {},
   "outputs": [],
   "source": [
    "#x 배열에 값이 1인 열을 추가하기 위한 x0값을 설정한다\n",
    "x0 = np.ones(len(x))\n",
    "x0 = x0.reshape(-1,1);"
   ]
  },
  {
   "cell_type": "markdown",
   "metadata": {},
   "source": [
    "함수가 최대 3차함수라는 가정이기 때문에 x는 3차까지 존재한다"
   ]
  },
  {
   "cell_type": "code",
   "execution_count": 81,
   "metadata": {},
   "outputs": [
    {
     "data": {
      "text/plain": [
       "array([[-3.29215704],\n",
       "       [ 0.79952837],\n",
       "       [-0.93621395],\n",
       "       [-4.7226796 ],\n",
       "       [-3.60267397],\n",
       "       [ 4.93183364],\n",
       "       [-0.85026525],\n",
       "       [ 2.45407162],\n",
       "       [ 2.30965656],\n",
       "       [ 0.76820449],\n",
       "       [ 1.56786929],\n",
       "       [-2.36282052],\n",
       "       [-0.28311318],\n",
       "       [ 1.63497495],\n",
       "       [ 0.6684103 ],\n",
       "       [ 0.99897702],\n",
       "       [-2.48223722],\n",
       "       [ 2.61547479],\n",
       "       [ 1.0607969 ],\n",
       "       [ 4.56228722]])"
      ]
     },
     "execution_count": 81,
     "metadata": {},
     "output_type": "execute_result"
    }
   ],
   "source": [
    "x1 = x\n",
    "x1"
   ]
  },
  {
   "cell_type": "code",
   "execution_count": 82,
   "metadata": {},
   "outputs": [
    {
     "data": {
      "text/plain": [
       "array([[10.83829796],\n",
       "       [ 0.63924562],\n",
       "       [ 0.87649656],\n",
       "       [22.30370258],\n",
       "       [12.97925974],\n",
       "       [24.32298305],\n",
       "       [ 0.722951  ],\n",
       "       [ 6.02246754],\n",
       "       [ 5.3345134 ],\n",
       "       [ 0.59013814],\n",
       "       [ 2.4582141 ],\n",
       "       [ 5.58292081],\n",
       "       [ 0.08015307],\n",
       "       [ 2.67314309],\n",
       "       [ 0.44677233],\n",
       "       [ 0.99795508],\n",
       "       [ 6.16150161],\n",
       "       [ 6.84070838],\n",
       "       [ 1.12529005],\n",
       "       [20.81446466]])"
      ]
     },
     "execution_count": 82,
     "metadata": {},
     "output_type": "execute_result"
    }
   ],
   "source": [
    "x2 = x**2\n",
    "x2"
   ]
  },
  {
   "cell_type": "code",
   "execution_count": 83,
   "metadata": {},
   "outputs": [
    {
     "data": {
      "text/plain": [
       "array([[-3.56813789e+01],\n",
       "       [ 5.11095014e-01],\n",
       "       [-8.20588313e-01],\n",
       "       [-1.05333241e+02],\n",
       "       [-4.67600412e+01],\n",
       "       [ 1.19956906e+02],\n",
       "       [-6.14700114e-01],\n",
       "       [ 1.47795667e+01],\n",
       "       [ 1.23208939e+01],\n",
       "       [ 4.53346775e-01],\n",
       "       [ 3.85415839e+00],\n",
       "       [-1.31914399e+01],\n",
       "       [-2.26923902e-02],\n",
       "       [ 4.37052199e+00],\n",
       "       [ 2.98627229e-01],\n",
       "       [ 9.96934192e-01],\n",
       "       [-1.52943086e+01],\n",
       "       [ 1.78917003e+01],\n",
       "       [ 1.19370419e+00],\n",
       "       [ 9.49615661e+01]])"
      ]
     },
     "execution_count": 83,
     "metadata": {},
     "output_type": "execute_result"
    }
   ],
   "source": [
    "x3 = x**3\n",
    "x3"
   ]
  },
  {
   "cell_type": "markdown",
   "metadata": {},
   "source": [
    "열 배열들을 합쳐서 x 행렬을 만든다"
   ]
  },
  {
   "cell_type": "code",
   "execution_count": 84,
   "metadata": {
    "scrolled": true
   },
   "outputs": [
    {
     "data": {
      "text/plain": [
       "array([[ 1.00000000e+00, -3.29215704e+00,  1.08382980e+01,\n",
       "        -3.56813789e+01],\n",
       "       [ 1.00000000e+00,  7.99528375e-01,  6.39245622e-01,\n",
       "         5.11095014e-01],\n",
       "       [ 1.00000000e+00, -9.36213952e-01,  8.76496565e-01,\n",
       "        -8.20588313e-01],\n",
       "       [ 1.00000000e+00, -4.72267960e+00,  2.23037026e+01,\n",
       "        -1.05333241e+02],\n",
       "       [ 1.00000000e+00, -3.60267397e+00,  1.29792597e+01,\n",
       "        -4.67600412e+01],\n",
       "       [ 1.00000000e+00,  4.93183364e+00,  2.43229830e+01,\n",
       "         1.19956906e+02],\n",
       "       [ 1.00000000e+00, -8.50265253e-01,  7.22951000e-01,\n",
       "        -6.14700114e-01],\n",
       "       [ 1.00000000e+00,  2.45407162e+00,  6.02246754e+00,\n",
       "         1.47795667e+01],\n",
       "       [ 1.00000000e+00,  2.30965656e+00,  5.33451340e+00,\n",
       "         1.23208939e+01],\n",
       "       [ 1.00000000e+00,  7.68204494e-01,  5.90138145e-01,\n",
       "         4.53346775e-01],\n",
       "       [ 1.00000000e+00,  1.56786929e+00,  2.45821410e+00,\n",
       "         3.85415839e+00],\n",
       "       [ 1.00000000e+00, -2.36282052e+00,  5.58292081e+00,\n",
       "        -1.31914399e+01],\n",
       "       [ 1.00000000e+00, -2.83113175e-01,  8.01530701e-02,\n",
       "        -2.26923902e-02],\n",
       "       [ 1.00000000e+00,  1.63497495e+00,  2.67314309e+00,\n",
       "         4.37052199e+00],\n",
       "       [ 1.00000000e+00,  6.68410302e-01,  4.46772332e-01,\n",
       "         2.98627229e-01],\n",
       "       [ 1.00000000e+00,  9.98977018e-01,  9.97955082e-01,\n",
       "         9.96934192e-01],\n",
       "       [ 1.00000000e+00, -2.48223722e+00,  6.16150161e+00,\n",
       "        -1.52943086e+01],\n",
       "       [ 1.00000000e+00,  2.61547479e+00,  6.84070838e+00,\n",
       "         1.78917003e+01],\n",
       "       [ 1.00000000e+00,  1.06079690e+00,  1.12529005e+00,\n",
       "         1.19370419e+00],\n",
       "       [ 1.00000000e+00,  4.56228722e+00,  2.08144647e+01,\n",
       "         9.49615661e+01]])"
      ]
     },
     "execution_count": 84,
     "metadata": {},
     "output_type": "execute_result"
    }
   ],
   "source": [
    "x = np.hstack((x0,x1,x2,x3))\n",
    "x"
   ]
  },
  {
   "cell_type": "markdown",
   "metadata": {},
   "source": [
    "$\\hat{\\theta} = (X^TX)^{-1} X^TY $"
   ]
  },
  {
   "cell_type": "markdown",
   "metadata": {},
   "source": [
    "우선 $ (X^TX)^{-1} $ 값을 구한다"
   ]
  },
  {
   "cell_type": "code",
   "execution_count": 85,
   "metadata": {},
   "outputs": [
    {
     "data": {
      "text/plain": [
       "array([[ 0.0972744 , -0.01806926, -0.00681668,  0.00108685],\n",
       "       [-0.01806926,  0.0387146 ,  0.00186104, -0.00204214],\n",
       "       [-0.00681668,  0.00186104,  0.00100473, -0.00012938],\n",
       "       [ 0.00108685, -0.00204214, -0.00012938,  0.00013446]])"
      ]
     },
     "execution_count": 85,
     "metadata": {},
     "output_type": "execute_result"
    }
   ],
   "source": [
    "xt = np.transpose(x)\n",
    "xtx = np.dot(xt,x)\n",
    "xtx_inv = np.linalg.inv(xtx)\n",
    "xtx_inv"
   ]
  },
  {
   "cell_type": "markdown",
   "metadata": {},
   "source": [
    " 다음으로 $ X^TY $ 값을 구한다"
   ]
  },
  {
   "cell_type": "code",
   "execution_count": 86,
   "metadata": {
    "scrolled": true
   },
   "outputs": [
    {
     "data": {
      "text/plain": [
       "array([[ -287.50209689],\n",
       "       [  994.93937573],\n",
       "       [-3617.36387279],\n",
       "       [17623.7304465 ]])"
      ]
     },
     "execution_count": 86,
     "metadata": {},
     "output_type": "execute_result"
    }
   ],
   "source": [
    "xty = np.dot(xt,y)\n",
    "xty"
   ]
  },
  {
   "cell_type": "markdown",
   "metadata": {},
   "source": [
    "두 값의 행렬 곱으로 theta 값을 구한다"
   ]
  },
  {
   "cell_type": "code",
   "execution_count": 87,
   "metadata": {
    "scrolled": false
   },
   "outputs": [
    {
     "data": {
      "text/plain": [
       "array([[-2.13159804],\n",
       "       [ 0.99141388],\n",
       "       [-2.10330137],\n",
       "       [ 0.49338043]])"
      ]
     },
     "execution_count": 87,
     "metadata": {},
     "output_type": "execute_result"
    }
   ],
   "source": [
    "theta = np.dot(xtx_inv,xty)\n",
    "theta"
   ]
  },
  {
   "cell_type": "markdown",
   "metadata": {},
   "source": [
    "구해진 theta값을 이용해 그래프를 그린다 <br/>\n",
    "그래프의 x값은 -5에서 5까지 0.1간격으로 뽑은 값이다"
   ]
  },
  {
   "cell_type": "code",
   "execution_count": 88,
   "metadata": {},
   "outputs": [
    {
     "data": {
      "image/png": "[encoded data removed]",
      "text/plain": [
       "<Figure size 432x288 with 1 Axes>"
      ]
     },
     "metadata": {
      "needs_background": "light"
     },
     "output_type": "display_data"
    }
   ],
   "source": [
    "x_pred = np.arange(-5,5,0.1);\n",
    "pred = theta[0][0] +  theta[1][0]*(x_pred) + theta[2][0]*(x_pred**2) + theta[3][0]*(x_pred**3);\n",
    "plt.plot(x_pred,pred)\n",
    "plt.scatter(x_init, y_init, s=10)\n",
    "plt.show()"
   ]
  }
 ],
 "metadata": {
  "kernelspec": {
   "display_name": "Python 3",
   "language": "python",
   "name": "python3"
  },
  "language_info": {
   "codemirror_mode": {
    "name": "ipython",
    "version": 3
   },
   "file_extension": ".py",
   "mimetype": "text/x-python",
   "name": "python",
   "nbconvert_exporter": "python",
   "pygments_lexer": "ipython3",
   "version": "3.7.1"
  }
 },
 "nbformat": 4,
 "nbformat_minor": 2
}
