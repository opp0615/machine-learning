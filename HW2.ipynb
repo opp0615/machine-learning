{
 "cells": [
  {
   "cell_type": "markdown",
   "metadata": {},
   "source": [
    "__원활한 채점을 위하여 notebook을 html로 저장하여 제출하시오__\n",
    "\n",
    "__파일명은 HW2_학번_이름   으로 저장할 것__"
   ]
  },
  {
   "cell_type": "markdown",
   "metadata": {},
   "source": [
    "먼저 다음 데이터를 로딩하시오"
   ]
  },
  {
   "cell_type": "code",
   "execution_count": 344,
   "metadata": {},
   "outputs": [],
   "source": [
    "%matplotlib inline\n",
    "from matplotlib import pyplot as plt\n",
    "import pandas as pd\n",
    "import numpy as np"
   ]
  },
  {
   "cell_type": "code",
   "execution_count": 345,
   "metadata": {},
   "outputs": [
    {
     "data": {
      "text/html": [
       "<div>\n",
       "<style scoped>\n",
       "    .dataframe tbody tr th:only-of-type {\n",
       "        vertical-align: middle;\n",
       "    }\n",
       "\n",
       "    .dataframe tbody tr th {\n",
       "        vertical-align: top;\n",
       "    }\n",
       "\n",
       "    .dataframe thead th {\n",
       "        text-align: right;\n",
       "    }\n",
       "</style>\n",
       "<table border=\"1\" class=\"dataframe\">\n",
       "  <thead>\n",
       "    <tr style=\"text-align: right;\">\n",
       "      <th></th>\n",
       "      <th>feature1</th>\n",
       "      <th>feature2</th>\n",
       "      <th>y_label</th>\n",
       "    </tr>\n",
       "  </thead>\n",
       "  <tbody>\n",
       "    <tr>\n",
       "      <th>0</th>\n",
       "      <td>34.623660</td>\n",
       "      <td>78.024693</td>\n",
       "      <td>0</td>\n",
       "    </tr>\n",
       "    <tr>\n",
       "      <th>1</th>\n",
       "      <td>30.286711</td>\n",
       "      <td>43.894998</td>\n",
       "      <td>0</td>\n",
       "    </tr>\n",
       "    <tr>\n",
       "      <th>2</th>\n",
       "      <td>35.847409</td>\n",
       "      <td>72.902198</td>\n",
       "      <td>0</td>\n",
       "    </tr>\n",
       "    <tr>\n",
       "      <th>3</th>\n",
       "      <td>60.182599</td>\n",
       "      <td>86.308552</td>\n",
       "      <td>1</td>\n",
       "    </tr>\n",
       "    <tr>\n",
       "      <th>4</th>\n",
       "      <td>79.032736</td>\n",
       "      <td>75.344376</td>\n",
       "      <td>1</td>\n",
       "    </tr>\n",
       "  </tbody>\n",
       "</table>\n",
       "</div>"
      ],
      "text/plain": [
       "    feature1   feature2  y_label\n",
       "0  34.623660  78.024693        0\n",
       "1  30.286711  43.894998        0\n",
       "2  35.847409  72.902198        0\n",
       "3  60.182599  86.308552        1\n",
       "4  79.032736  75.344376        1"
      ]
     },
     "execution_count": 345,
     "metadata": {},
     "output_type": "execute_result"
    }
   ],
   "source": [
    "data = pd.read_csv('hw2data.txt',\n",
    "                   header=None, names = ('feature1','feature2','y_label'))\n",
    "data.head()"
   ]
  },
  {
   "cell_type": "code",
   "execution_count": 346,
   "metadata": {
    "scrolled": true
   },
   "outputs": [
    {
     "data": {
      "text/plain": [
       "(100, 3)"
      ]
     },
     "execution_count": 346,
     "metadata": {},
     "output_type": "execute_result"
    }
   ],
   "source": [
    "data.shape"
   ]
  },
  {
   "cell_type": "markdown",
   "metadata": {},
   "source": [
    "### 1번 feature1, feature2 를 X 로, y_label을 y 로 하여  scatter plot 을 이용하여 y값에 따라 색깔을 달리 하여 그래프로 그리시오."
   ]
  },
  {
   "cell_type": "code",
   "execution_count": 347,
   "metadata": {},
   "outputs": [],
   "source": [
    "X = data.iloc[:,:2].values\n",
    "Y = data.iloc[:,2].values"
   ]
  },
  {
   "cell_type": "code",
   "execution_count": 348,
   "metadata": {
    "scrolled": true
   },
   "outputs": [
    {
     "data": {
      "image/png": "[encoded data removed]",
      "text/plain": [
       "<Figure size 432x288 with 1 Axes>"
      ]
     },
     "metadata": {
      "needs_background": "light"
     },
     "output_type": "display_data"
    }
   ],
   "source": [
    "plt.scatter(X[y == 1, 0], X[y == 1, 1], c='blue', label='Released')\n",
    "plt.scatter(X[y == 0, 0], X[y == 0, 1], c='red', label='Faulty')\n",
    "plt.xlabel(\"feature1\")\n",
    "plt.ylabel(\"feature2\")\n",
    "plt.legend();"
   ]
  },
  {
   "cell_type": "markdown",
   "metadata": {},
   "source": [
    " "
   ]
  },
  {
   "cell_type": "markdown",
   "metadata": {},
   "source": [
    "### 2번 Gradient Descent를 이용하여, 직접 $\\theta$ 값'들'을 구해보자."
   ]
  },
  {
   "cell_type": "markdown",
   "metadata": {},
   "source": [
    "하나의 샘플에서 cost는 다음과 같았다. \n",
    "$$\n",
    "{  \\text{cost} =\n",
    "  \\begin{cases}\n",
    "    -\\log(h_\\theta(x))      & \\quad \\text{if }y=1\\\\\n",
    "     -\\log(1-h_\\theta(x))   & \\quad \\text{if }y=0\n",
    "  \\end{cases}\n",
    "}\n",
    "$$\n",
    "100 개의 샘플을 위 cost의 모든 샘플의 평균이라고 하자 (cost의 합 나누기 샘플 수)"
   ]
  },
  {
   "cell_type": "markdown",
   "metadata": {},
   "source": [
    "numpy array를 적극 활용하여 sum을 마지막에 구하는게 이상적이나, 직접 100개의 합을 구해도 된다. "
   ]
  },
  {
   "cell_type": "markdown",
   "metadata": {},
   "source": [
    "linear regression의 GD와 오늘 배운 미분식을 이용하여, learning rate 0.1로 하고, step size를 500으로 하여, $\\theta$들을 구해보자."
   ]
  },
  {
   "cell_type": "markdown",
   "metadata": {},
   "source": [
    "(초기 값이 다 다르므로, 모든 학생들의 $ \\theta $는 상이할 것이라고 예상한다. )"
   ]
  },
  {
   "cell_type": "code",
   "execution_count": 349,
   "metadata": {},
   "outputs": [],
   "source": [
    "import math\n",
    "import matplotlib.pyplot as plt\n",
    "import numpy as np\n",
    "from random import *"
   ]
  },
  {
   "cell_type": "code",
   "execution_count": 350,
   "metadata": {},
   "outputs": [],
   "source": [
    "X0 = np.ones(len(Y));\n",
    "X0 = X0.reshape(-1,1);\n",
    "X = np.hstack((X0,X));"
   ]
  },
  {
   "cell_type": "code",
   "execution_count": 351,
   "metadata": {},
   "outputs": [
    {
     "name": "stdout",
     "output_type": "stream",
     "text": [
      "[[ 1.         34.62365962 78.02469282]\n",
      " [ 1.         30.28671077 43.89499752]\n",
      " [ 1.         35.84740877 72.90219803]\n",
      " [ 1.         60.18259939 86.3085521 ]\n",
      " [ 1.         79.03273605 75.34437644]\n",
      " [ 1.         45.08327748 56.31637178]\n",
      " [ 1.         61.10666454 96.51142588]\n",
      " [ 1.         75.02474557 46.55401354]\n",
      " [ 1.         76.0987867  87.42056972]\n",
      " [ 1.         84.43281996 43.53339331]\n",
      " [ 1.         95.86155507 38.22527806]\n",
      " [ 1.         75.01365839 30.60326323]\n",
      " [ 1.         82.30705337 76.4819633 ]\n",
      " [ 1.         69.36458876 97.71869196]\n",
      " [ 1.         39.53833914 76.03681085]\n",
      " [ 1.         53.97105215 89.20735014]\n",
      " [ 1.         69.07014406 52.74046973]\n",
      " [ 1.         67.94685548 46.67857411]\n",
      " [ 1.         70.66150955 92.92713789]\n",
      " [ 1.         76.97878373 47.57596365]\n",
      " [ 1.         67.37202755 42.83843832]\n",
      " [ 1.         89.67677575 65.79936593]\n",
      " [ 1.         50.53478829 48.85581153]\n",
      " [ 1.         34.21206098 44.2095286 ]\n",
      " [ 1.         77.92409145 68.97235999]\n",
      " [ 1.         62.27101367 69.95445795]\n",
      " [ 1.         80.19018075 44.82162893]\n",
      " [ 1.         93.1143888  38.80067034]\n",
      " [ 1.         61.83020602 50.25610789]\n",
      " [ 1.         38.7858038  64.99568096]\n",
      " [ 1.         61.37928945 72.80788731]\n",
      " [ 1.         85.40451939 57.05198398]\n",
      " [ 1.         52.10797973 63.12762377]\n",
      " [ 1.         52.04540477 69.43286012]\n",
      " [ 1.         40.23689374 71.16774802]\n",
      " [ 1.         54.63510555 52.21388588]\n",
      " [ 1.         33.91550011 98.86943574]\n",
      " [ 1.         64.17698887 80.90806059]\n",
      " [ 1.         74.78925296 41.57341523]\n",
      " [ 1.         34.18364003 75.23772034]\n",
      " [ 1.         83.90239366 56.30804622]\n",
      " [ 1.         51.54772027 46.85629026]\n",
      " [ 1.         94.44336777 65.56892161]\n",
      " [ 1.         82.36875376 40.61825516]\n",
      " [ 1.         51.04775177 45.82270146]\n",
      " [ 1.         62.22267576 52.06099195]\n",
      " [ 1.         77.19303493 70.4582    ]\n",
      " [ 1.         97.77159928 86.72782233]\n",
      " [ 1.         62.0730638  96.76882412]\n",
      " [ 1.         91.5649745  88.69629255]\n",
      " [ 1.         79.94481794 74.16311935]\n",
      " [ 1.         99.27252693 60.999031  ]\n",
      " [ 1.         90.54671411 43.39060181]\n",
      " [ 1.         34.52451385 60.39634246]\n",
      " [ 1.         50.28649612 49.80453881]\n",
      " [ 1.         49.58667722 59.80895099]\n",
      " [ 1.         97.64563396 68.86157272]\n",
      " [ 1.         32.57720017 95.59854761]\n",
      " [ 1.         74.24869137 69.82457123]\n",
      " [ 1.         71.79646206 78.45356225]\n",
      " [ 1.         75.39561147 85.75993667]\n",
      " [ 1.         35.28611282 47.02051395]\n",
      " [ 1.         56.2538175  39.26147251]\n",
      " [ 1.         30.05882245 49.59297387]\n",
      " [ 1.         44.66826172 66.45008615]\n",
      " [ 1.         66.56089447 41.09209808]\n",
      " [ 1.         40.45755098 97.53518549]\n",
      " [ 1.         49.07256322 51.88321182]\n",
      " [ 1.         80.27957401 92.11606081]\n",
      " [ 1.         66.74671857 60.99139403]\n",
      " [ 1.         32.72283304 43.30717306]\n",
      " [ 1.         64.03932042 78.03168802]\n",
      " [ 1.         72.34649423 96.22759297]\n",
      " [ 1.         60.45788574 73.0949981 ]\n",
      " [ 1.         58.84095622 75.85844831]\n",
      " [ 1.         99.8278578  72.36925193]\n",
      " [ 1.         47.26426911 88.475865  ]\n",
      " [ 1.         50.4581598  75.80985953]\n",
      " [ 1.         60.45555629 42.50840944]\n",
      " [ 1.         82.22666158 42.71987854]\n",
      " [ 1.         88.91389642 69.8037889 ]\n",
      " [ 1.         94.83450672 45.6943068 ]\n",
      " [ 1.         67.31925747 66.58935318]\n",
      " [ 1.         57.23870632 59.51428198]\n",
      " [ 1.         80.366756   90.9601479 ]\n",
      " [ 1.         68.46852179 85.5943071 ]\n",
      " [ 1.         42.07545454 78.844786  ]\n",
      " [ 1.         75.47770201 90.424539  ]\n",
      " [ 1.         78.63542435 96.64742717]\n",
      " [ 1.         52.34800399 60.76950526]\n",
      " [ 1.         94.09433113 77.15910509]\n",
      " [ 1.         90.44855097 87.50879176]\n",
      " [ 1.         55.48216114 35.57070347]\n",
      " [ 1.         74.49269242 84.84513685]\n",
      " [ 1.         89.84580671 45.35828361]\n",
      " [ 1.         83.48916274 48.3802858 ]\n",
      " [ 1.         42.26170081 87.10385094]\n",
      " [ 1.         99.31500881 68.77540947]\n",
      " [ 1.         55.34001756 64.93193801]\n",
      " [ 1.         74.775893   89.5298129 ]] [0 0 0 1 1 0 1 1 1 1 0 0 1 1 0 1 1 0 1 1 0 1 0 0 1 1 1 0 0 0 1 1 0 1 0 0 0\n",
      " 1 0 0 1 0 1 0 0 0 1 1 1 1 1 1 1 0 0 0 1 0 1 1 1 0 0 0 0 0 1 0 1 1 0 1 1 1\n",
      " 1 1 1 1 0 0 1 1 1 1 1 1 0 1 1 0 1 1 0 1 1 1 1 1 1 1]\n"
     ]
    }
   ],
   "source": [
    "print(X,Y)"
   ]
  },
  {
   "cell_type": "markdown",
   "metadata": {},
   "source": [
    "theta값 초기화"
   ]
  },
  {
   "cell_type": "code",
   "execution_count": 352,
   "metadata": {},
   "outputs": [],
   "source": [
    "def init_theta():\n",
    "    #-20 부터 20까지의 랜덤 변수\n",
    "    theta0 = random()*40.-20.;\n",
    "    theta1 = random()*40.-20.;\n",
    "    theta2 = random()*40.-20.;\n",
    "    \n",
    "    return theta0,theta1,theta2;"
   ]
  },
  {
   "cell_type": "markdown",
   "metadata": {},
   "source": [
    "sigmoid 함수 정의"
   ]
  },
  {
   "cell_type": "code",
   "execution_count": 353,
   "metadata": {},
   "outputs": [],
   "source": [
    "def sigmoid(x):\n",
    "    return np.longdouble(1/(1+np.exp(-x)));"
   ]
  },
  {
   "cell_type": "markdown",
   "metadata": {},
   "source": [
    "cost 함수 정의"
   ]
  },
  {
   "cell_type": "code",
   "execution_count": 354,
   "metadata": {},
   "outputs": [],
   "source": [
    "def compute_cost(theta0, theta1,theta2, X,Y):\n",
    "    total_cost = 0;\n",
    "    N =0; #코스트 값을 나눌때 자동형변환을 방지하기위해 float로 형변환\n",
    "    \n",
    "    for i in range(len(Y)):\n",
    "        x0 = X[i,0];\n",
    "        x1 = X[i,1];\n",
    "        x2 = X[i,2];\n",
    "        y = Y[i];\n",
    "        total_cost += (-y*math.log(sigmoid(theta0*x0 + theta1*x1 + theta2 * x2)+0.000001)\n",
    "                             - (1-y)*math.log(1.000001-sigmoid(theta0*x0 + theta1*x1 + theta2 * x2))); \n",
    "    \n",
    "        N+=1;\n",
    "    return total_cost/N; #에러값의 제곱값의 합을 개수로 나눈것을 코스트값이라 정의한다"
   ]
  },
  {
   "cell_type": "code",
   "execution_count": 355,
   "metadata": {},
   "outputs": [
    {
     "name": "stdout",
     "output_type": "stream",
     "text": [
      "-5.344688935826877 -19.66878140924677 -5.767459332965309\n",
      "8.289305934778756\n"
     ]
    }
   ],
   "source": [
    "theta0,theta1,theta2 = init_theta();\n",
    "print(theta0,theta1,theta2);\n",
    "print(compute_cost(theta0,theta1,theta2,X,Y))"
   ]
  },
  {
   "cell_type": "code",
   "execution_count": 356,
   "metadata": {},
   "outputs": [],
   "source": [
    "def step_gradient(theta0_current, theta1_current,theta2_current, X,Y, learing_rate):\n",
    "    theta0_gradient = 0;\n",
    "    theta1_gradient = 0;\n",
    "    theta2_gradient = 0;\n",
    "    N = float(len(Y));\n",
    "    \n",
    "    #현재 m,n 값에서의 기울기(경사도)를 구한다\n",
    "    for i in range(len(Y)):\n",
    "        x0 = X[i,0];\n",
    "        x1 = X[i,1];\n",
    "        x2 = X[i,2];\n",
    "        y = Y[i];\n",
    "        theta0_gradient += (1/N)*(sigmoid(theta0*x0 + theta1*x1 + theta2 * x2)-y)*x0;\n",
    "        theta1_gradient += (1/N)*(sigmoid(theta0*x0 + theta1*x1 + theta2 * x2)-y)*x1;\n",
    "        theta2_gradient += (1/N)*(sigmoid(theta0*x0 + theta1*x1 + theta2 * x2)-y)*x2;\n",
    "        \n",
    "        \n",
    "    #위에서 구한 경사도에 따라 경사를 따라 내려간다\n",
    "    theta0_updated = theta0_current - learing_rate * theta0_gradient;\n",
    "    theta1_updated = theta1_current - learing_rate * theta1_gradient;\n",
    "    theta2_updated = theta2_current - learing_rate * theta2_gradient;\n",
    "    \n",
    "    return theta0_updated, theta1_updated,theta2_updated; #업데이트 된 값을 반환한다"
   ]
  },
  {
   "cell_type": "code",
   "execution_count": 357,
   "metadata": {},
   "outputs": [],
   "source": [
    "def gradient_descent_runner(X,Y, starting_theta0, starting_theta1,starting_theta2, learning_rate, num_iterations):\n",
    "    #초기값으로 부터 gradient descent를 실행한다\n",
    "    theta0 = starting_theta0;\n",
    "    theta1 = starting_theta1;\n",
    "    theta2 = starting_theta2;\n",
    "    \n",
    "    #원하는 반복 수 만큼 경사를 따라 내려간다\n",
    "    for i in range(num_iterations):\n",
    "         #현재 m,n,points에 따른 코스트 값\n",
    "        theta0, theta1,theta2 = step_gradient(theta0, theta1,theta2, X,Y, learning_rate); #경사를 내려가는 스텝\n",
    "    cost = compute_cost(theta0, theta1,theta2, X,Y);   \n",
    "    return [theta0, theta1,theta2,cost]"
   ]
  },
  {
   "cell_type": "code",
   "execution_count": 358,
   "metadata": {
    "scrolled": false
   },
   "outputs": [],
   "source": [
    "learning_rate = 0.01     # hyper parameter: alpha\n",
    "num_iterations = 5000    # hyper parameter: number of steps \n",
    "init_theta0 ,init_theta1,init_theta2 =  init_theta();\n",
    "gd_iterations = 10; #GD를 반복하는 횟수 \n",
    "\n",
    "#각 gd스텝을 저장할 theta의 리스트\n",
    "theta0_list = [];\n",
    "theta1_list = [];\n",
    "theta2_list = [];\n",
    "cost_list = [];\n",
    "\n",
    "#0번째 값\n",
    "theta0_list.append(init_theta0);\n",
    "theta1_list.append(init_theta1);\n",
    "theta2_list.append(init_theta2);\n",
    "\n",
    "for i in range(gd_iterations):\n",
    "    theta0, theta1,theta2 , cost = gradient_descent_runner(X,Y, init_theta0,init_theta1,init_theta2, learning_rate, num_iterations)\n",
    "    theta0_list.append(theta0);\n",
    "    theta1_list.append(theta1);\n",
    "    theta2_list.append(theta2);\n",
    "    cost_list.append(cost);\n",
    "    \n",
    "    init_theta0 = theta0;\n",
    "    init_theta1 = theta1;\n",
    "    init_theta2 = theta2;\n",
    "\n",
    "  "
   ]
  },
  {
   "cell_type": "code",
   "execution_count": 359,
   "metadata": {},
   "outputs": [
    {
     "name": "stdout",
     "output_type": "stream",
     "text": [
      "[11.253815189769504, 41.25381518977064, 21.25381518977218, 1.2538151897717449, -18.746184810227856, 11.253815189772835, -8.74618481022585, -28.74618481022931, 1.2538151897715593, -18.74618481022804, -38.746184810228726]\n",
      "[8.490649052644187, 2250.058329950319, 1209.4123079815436, 168.76628601300274, -871.8797359554688, 1369.687944942116, 329.0419229734996, -711.6040989949839, 1529.963581902601, 489.31755993389686, -551.3284620345867]\n",
      "[-15.354735626627924, 2203.3373268521777, 1110.9294849251078, 18.521642997938805, -1073.8861989292361, 1144.8058635493594, 52.39802162219594, -1040.0098203049845, 1178.6822421736113, 86.27440024645259, -1006.1334416807326]\n"
     ]
    }
   ],
   "source": [
    "print(theta0_list)\n",
    "print(theta1_list)\n",
    "print(theta2_list)"
   ]
  },
  {
   "cell_type": "code",
   "execution_count": 360,
   "metadata": {},
   "outputs": [
    {
     "name": "stdout",
     "output_type": "stream",
     "text": [
      "[5.526203623218912, 5.526203623218912, 5.526203623218912, 8.289305934778756, 5.526203623218912, 5.526203623218912, 8.289305934778756, 5.526203623218912, 5.526203623218912, 8.289305934778756]\n"
     ]
    }
   ],
   "source": [
    "print(cost_list)  "
   ]
  },
  {
   "cell_type": "markdown",
   "metadata": {},
   "source": [
    "[-10.47, -10.711999176777697] [15.83, 15.606873092374174] [2.34, 2.3753159261501366]\n",
    "0.45801738981418183 / 러닝레이트 0.001 반복 5000"
   ]
  },
  {
   "cell_type": "markdown",
   "metadata": {},
   "source": [
    "[-10.47, -11.28805933955792] [15.83, 14.554738039523885] [2.34, 3.7177528618641453]\n",
    "0.3944244194109798 / 러닝레이트 0.001 반복 5000"
   ]
  },
  {
   "cell_type": "markdown",
   "metadata": {},
   "source": [
    "### 3. 위에서 구한 $\\theta$들을 이용하여 decision boundary를 그려보자. \n",
    "왜 그렇게 그리게 되었는지 서술하시오. "
   ]
  },
  {
   "cell_type": "markdown",
   "metadata": {},
   "source": [
    "### 4. Stochastic Gradient Decsent 란 GD를 빠르게 수행하는 알고리즘으로 샘플 100개를 다 방문하는게 아니라 각 스텝별 임의로 샘플을 하나 골라 GD를 수행하는 알고리즘이다. SGD로 2번을 반복하시오."
   ]
  },
  {
   "cell_type": "code",
   "execution_count": null,
   "metadata": {},
   "outputs": [],
   "source": []
  },
  {
   "cell_type": "code",
   "execution_count": null,
   "metadata": {},
   "outputs": [],
   "source": []
  },
  {
   "cell_type": "code",
   "execution_count": null,
   "metadata": {},
   "outputs": [],
   "source": []
  },
  {
   "cell_type": "code",
   "execution_count": null,
   "metadata": {},
   "outputs": [],
   "source": []
  },
  {
   "cell_type": "code",
   "execution_count": null,
   "metadata": {},
   "outputs": [],
   "source": []
  },
  {
   "cell_type": "code",
   "execution_count": null,
   "metadata": {},
   "outputs": [],
   "source": []
  }
 ],
 "metadata": {
  "kernelspec": {
   "display_name": "Python 3",
   "language": "python",
   "name": "python3"
  },
  "language_info": {
   "codemirror_mode": {
    "name": "ipython",
    "version": 3
   },
   "file_extension": ".py",
   "mimetype": "text/x-python",
   "name": "python",
   "nbconvert_exporter": "python",
   "pygments_lexer": "ipython3",
   "version": "3.7.1"
  }
 },
 "nbformat": 4,
 "nbformat_minor": 2
}
