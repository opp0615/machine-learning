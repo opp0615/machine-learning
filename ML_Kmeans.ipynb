{
 "cells": [
  {
   "cell_type": "markdown",
   "metadata": {},
   "source": [
    "# K-means"
   ]
  },
  {
   "cell_type": "markdown",
   "metadata": {},
   "source": [
    "이번 강의에서는 비지도학습의 대표적인 알고리즘인 K-means 에 대해 학습하도록 한다."
   ]
  },
  {
   "cell_type": "markdown",
   "metadata": {},
   "source": [
    "### 비지도학습"
   ]
  },
  {
   "cell_type": "markdown",
   "metadata": {},
   "source": [
    "우리는 앞에서 지도학습을 두가지로 분류하여 (classification, regression) 공부하였다. 비지도 학습이란 정답을 따로 알려주지 않고(label이 없음), 비슷한 데이터들을 군집화 하는 것이라고 할 수 있다. \n",
    "\n",
    "즉 input vector 값들만(label 없음) 이용하여 유사한 데이터들끼리 군집화하는 것을 비지도 학습이라고 요약할 수 있다.  "
   ]
  },
  {
   "cell_type": "markdown",
   "metadata": {},
   "source": [
    "K-menas 란 다차원의 input vector로 이루어진 데이터포인트들을 K개의 군집으로 군집화 한 알고리즘이라고 할 수 있다."
   ]
  },
  {
   "cell_type": "markdown",
   "metadata": {},
   "source": [
    "### K-means  용어"
   ]
  },
  {
   "cell_type": "markdown",
   "metadata": {},
   "source": [
    "K 개의 평균값이 있다고 생각하면 이해하기 쉬우며, 이 평균값들은 우리는 centroid 라고 명명할 것이다. \n",
    "각 데이터포인터는 centroid와의 거리 계산을 통하여 가까운 centroid를 찾아서 가까운 centorid의 군집에 속한다고 가정한다. 이것이 K-means 알고리즘의 핵심이라고 할 수 있다."
   ]
  },
  {
   "cell_type": "markdown",
   "metadata": {},
   "source": [
    "### K-means 알고리즘 수행"
   ]
  },
  {
   "cell_type": "markdown",
   "metadata": {},
   "source": [
    "K-means 는 다음과 같은 과정을 통해 수행된다."
   ]
  },
  {
   "cell_type": "markdown",
   "metadata": {},
   "source": [
    "1. 임의의 centroid 값을 기준으로 알고리즘을 실행(시작)\n",
    "2. 각 데이터 포인트와 centroid 와의 거리를 비교하여 가장 가까운 centroid 찾음\n",
    "3. centroid 를 업데이트 (주어진 군집에 속한 점들의 평균값을 이용하여 centroid 값 바꿈) "
   ]
  },
  {
   "cell_type": "markdown",
   "metadata": {},
   "source": [
    "2-3 번을 알고리즘을 일정한 단계까지 반복"
   ]
  },
  {
   "cell_type": "markdown",
   "metadata": {},
   "source": [
    "K-means 를 (일정한 단계까지) 도달하여 멈추는 방법은 크게 두가지가 있는데, 하나는 centroid값이 더 이상 변경되지 않을 때까지 반복하는 방법과 나머지 하나는 max iteration 값을 설정하여 그 값까지 계속 방법하는 방법이다. 두 가지 방법 중에 선호하는 방법을 택하면 되며, 두 번째 방법이 간단하나, 검증을 해야 되는 단점이 있다."
   ]
  },
  {
   "cell_type": "markdown",
   "metadata": {},
   "source": [
    "## K-means 실행 및 구현"
   ]
  },
  {
   "cell_type": "markdown",
   "metadata": {},
   "source": [
    "Scikit learn 을 통하여 k-means 를 먼저 간단히 실행해보고, 직접 구현해보도록 하자."
   ]
  },
  {
   "cell_type": "code",
   "execution_count": 101,
   "metadata": {},
   "outputs": [],
   "source": [
    "import pandas as pd\n",
    "import numpy as np\n",
    "import matplotlib.pyplot as plt\n",
    "from sklearn.cluster import KMeans\n",
    "%matplotlib inline"
   ]
  },
  {
   "cell_type": "code",
   "execution_count": 102,
   "metadata": {
    "scrolled": false
   },
   "outputs": [
    {
     "data": {
      "image/png": "[encoded data removed]",
      "text/plain": [
       "<Figure size 432x288 with 1 Axes>"
      ]
     },
     "metadata": {
      "needs_background": "light"
     },
     "output_type": "display_data"
    }
   ],
   "source": [
    "X= -2 * np.random.rand(100,2)\n",
    "X1 = 1 + 2 * np.random.rand(50,2)\n",
    "X[50:100, :] = X1\n",
    "plt.scatter(X[ : , 0], X[ :, 1], s = 50, c = 'b')\n",
    "plt.show()"
   ]
  },
  {
   "cell_type": "code",
   "execution_count": 103,
   "metadata": {},
   "outputs": [
    {
     "data": {
      "text/plain": [
       "KMeans(algorithm='auto', copy_x=True, init='k-means++', max_iter=300,\n",
       "    n_clusters=2, n_init=10, n_jobs=None, precompute_distances='auto',\n",
       "    random_state=None, tol=0.0001, verbose=0)"
      ]
     },
     "execution_count": 103,
     "metadata": {},
     "output_type": "execute_result"
    }
   ],
   "source": [
    "from sklearn.cluster import KMeans\n",
    "Kmean = KMeans(n_clusters=2) #클러스터 2개\n",
    "Kmean.fit(X)"
   ]
  },
  {
   "cell_type": "code",
   "execution_count": 104,
   "metadata": {
    "scrolled": true
   },
   "outputs": [
    {
     "data": {
      "text/plain": [
       "array([[-0.96094741, -0.85601682],\n",
       "       [ 2.09651921,  1.98718204]])"
      ]
     },
     "execution_count": 104,
     "metadata": {},
     "output_type": "execute_result"
    }
   ],
   "source": [
    "Kmean.cluster_centers_"
   ]
  },
  {
   "cell_type": "code",
   "execution_count": 105,
   "metadata": {},
   "outputs": [
    {
     "data": {
      "text/plain": [
       "array([-0.96094741, -0.85601682])"
      ]
     },
     "execution_count": 105,
     "metadata": {},
     "output_type": "execute_result"
    }
   ],
   "source": [
    "Kmean.cluster_centers_[0]"
   ]
  },
  {
   "cell_type": "code",
   "execution_count": 106,
   "metadata": {
    "scrolled": true
   },
   "outputs": [
    {
     "data": {
      "text/plain": [
       "array([0, 0, 0, 0, 0, 0, 0, 0, 0, 0, 0, 0, 0, 0, 0, 0, 0, 0, 0, 0, 0, 0,\n",
       "       0, 0, 0, 0, 0, 0, 0, 0, 0, 0, 0, 0, 0, 0, 0, 0, 0, 0, 0, 0, 0, 0,\n",
       "       0, 0, 0, 0, 0, 0, 1, 1, 1, 1, 1, 1, 1, 1, 1, 1, 1, 1, 1, 1, 1, 1,\n",
       "       1, 1, 1, 1, 1, 1, 1, 1, 1, 1, 1, 1, 1, 1, 1, 1, 1, 1, 1, 1, 1, 1,\n",
       "       1, 1, 1, 1, 1, 1, 1, 1, 1, 1, 1, 1])"
      ]
     },
     "execution_count": 106,
     "metadata": {},
     "output_type": "execute_result"
    }
   ],
   "source": [
    "Kmean.labels_"
   ]
  },
  {
   "cell_type": "code",
   "execution_count": 107,
   "metadata": {},
   "outputs": [
    {
     "data": {
      "image/png": "[encoded data removed]",
      "text/plain": [
       "<Figure size 432x288 with 1 Axes>"
      ]
     },
     "metadata": {
      "needs_background": "light"
     },
     "output_type": "display_data"
    }
   ],
   "source": [
    "plt.scatter(X[ : , 0], X[ : , 1], s =50, c='b')\n",
    "plt.scatter(Kmean.cluster_centers_[0][0],Kmean.cluster_centers_[0][1], s=200, c='g', marker='s')\n",
    "plt.scatter(Kmean.cluster_centers_[1][0],Kmean.cluster_centers_[1][1], s=200, c='r', marker='s')\n",
    "plt.show()"
   ]
  },
  {
   "cell_type": "markdown",
   "metadata": {},
   "source": [
    "## K-means 직접 구현"
   ]
  },
  {
   "cell_type": "markdown",
   "metadata": {},
   "source": [
    "먼저 데이터를 고객 데이터를 활용하도록 하자. "
   ]
  },
  {
   "cell_type": "code",
   "execution_count": 108,
   "metadata": {},
   "outputs": [
    {
     "data": {
      "text/html": [
       "<div>\n",
       "<style scoped>\n",
       "    .dataframe tbody tr th:only-of-type {\n",
       "        vertical-align: middle;\n",
       "    }\n",
       "\n",
       "    .dataframe tbody tr th {\n",
       "        vertical-align: top;\n",
       "    }\n",
       "\n",
       "    .dataframe thead th {\n",
       "        text-align: right;\n",
       "    }\n",
       "</style>\n",
       "<table border=\"1\" class=\"dataframe\">\n",
       "  <thead>\n",
       "    <tr style=\"text-align: right;\">\n",
       "      <th></th>\n",
       "      <th>CustomerID</th>\n",
       "      <th>Genre</th>\n",
       "      <th>Age</th>\n",
       "      <th>Annual Income (k$)</th>\n",
       "      <th>Spending Score (1-100)</th>\n",
       "    </tr>\n",
       "  </thead>\n",
       "  <tbody>\n",
       "    <tr>\n",
       "      <th>0</th>\n",
       "      <td>1</td>\n",
       "      <td>Male</td>\n",
       "      <td>19</td>\n",
       "      <td>15</td>\n",
       "      <td>39</td>\n",
       "    </tr>\n",
       "    <tr>\n",
       "      <th>1</th>\n",
       "      <td>2</td>\n",
       "      <td>Male</td>\n",
       "      <td>21</td>\n",
       "      <td>15</td>\n",
       "      <td>81</td>\n",
       "    </tr>\n",
       "    <tr>\n",
       "      <th>2</th>\n",
       "      <td>3</td>\n",
       "      <td>Female</td>\n",
       "      <td>20</td>\n",
       "      <td>16</td>\n",
       "      <td>6</td>\n",
       "    </tr>\n",
       "    <tr>\n",
       "      <th>3</th>\n",
       "      <td>4</td>\n",
       "      <td>Female</td>\n",
       "      <td>23</td>\n",
       "      <td>16</td>\n",
       "      <td>77</td>\n",
       "    </tr>\n",
       "    <tr>\n",
       "      <th>4</th>\n",
       "      <td>5</td>\n",
       "      <td>Female</td>\n",
       "      <td>31</td>\n",
       "      <td>17</td>\n",
       "      <td>40</td>\n",
       "    </tr>\n",
       "  </tbody>\n",
       "</table>\n",
       "</div>"
      ],
      "text/plain": [
       "   CustomerID   Genre  Age  Annual Income (k$)  Spending Score (1-100)\n",
       "0           1    Male   19                  15                      39\n",
       "1           2    Male   21                  15                      81\n",
       "2           3  Female   20                  16                       6\n",
       "3           4  Female   23                  16                      77\n",
       "4           5  Female   31                  17                      40"
      ]
     },
     "execution_count": 108,
     "metadata": {},
     "output_type": "execute_result"
    }
   ],
   "source": [
    "dataset=pd.read_csv('Mall_Customers.csv')\n",
    "dataset.head()"
   ]
  },
  {
   "cell_type": "markdown",
   "metadata": {},
   "source": [
    "위 데이터에서 소득과 소비만 이용하여 K-means로 고객들을 군집화 한다고 하자. (왜 하는지, 한번 고민해보자)"
   ]
  },
  {
   "cell_type": "code",
   "execution_count": 109,
   "metadata": {},
   "outputs": [],
   "source": [
    "X = dataset.iloc[:, [3, 4]].values #annual income과 spending score를 뽑아온다"
   ]
  },
  {
   "cell_type": "code",
   "execution_count": 110,
   "metadata": {},
   "outputs": [
    {
     "data": {
      "text/plain": [
       "<matplotlib.collections.PathCollection at 0x1dd7899ddd8>"
      ]
     },
     "execution_count": 110,
     "metadata": {},
     "output_type": "execute_result"
    },
    {
     "data": {
      "image/png": "[encoded data removed]",
      "text/plain": [
       "<Figure size 432x288 with 1 Axes>"
      ]
     },
     "metadata": {
      "needs_background": "light"
     },
     "output_type": "display_data"
    }
   ],
   "source": [
    "plt.scatter(X[:,0],X[:,1])"
   ]
  },
  {
   "cell_type": "code",
   "execution_count": 111,
   "metadata": {},
   "outputs": [],
   "source": [
    "m=X.shape[0] # m은 데이터 포인트의 개수\n",
    "n=X.shape[1] # n은 input vector 의 차원 (2차원)\n",
    "n_iter=100 # set max iteration to 100"
   ]
  },
  {
   "cell_type": "code",
   "execution_count": 112,
   "metadata": {},
   "outputs": [],
   "source": [
    "K=5 # number of cluster to 5"
   ]
  },
  {
   "cell_type": "code",
   "execution_count": 113,
   "metadata": {},
   "outputs": [],
   "source": [
    "Centroids=np.array([]).reshape(n,0) "
   ]
  },
  {
   "cell_type": "code",
   "execution_count": 114,
   "metadata": {},
   "outputs": [
    {
     "data": {
      "text/plain": [
       "array([], shape=(2, 0), dtype=float64)"
      ]
     },
     "execution_count": 114,
     "metadata": {},
     "output_type": "execute_result"
    }
   ],
   "source": [
    "Centroids"
   ]
  },
  {
   "cell_type": "code",
   "execution_count": 115,
   "metadata": {},
   "outputs": [
    {
     "data": {
      "text/plain": [
       "array([[ 15,  39],\n",
       "       [ 15,  81],\n",
       "       [ 16,   6],\n",
       "       [ 16,  77],\n",
       "       [ 17,  40],\n",
       "       [ 17,  76],\n",
       "       [ 18,   6],\n",
       "       [ 18,  94],\n",
       "       [ 19,   3],\n",
       "       [ 19,  72],\n",
       "       [ 19,  14],\n",
       "       [ 19,  99],\n",
       "       [ 20,  15],\n",
       "       [ 20,  77],\n",
       "       [ 20,  13],\n",
       "       [ 20,  79],\n",
       "       [ 21,  35],\n",
       "       [ 21,  66],\n",
       "       [ 23,  29],\n",
       "       [ 23,  98],\n",
       "       [ 24,  35],\n",
       "       [ 24,  73],\n",
       "       [ 25,   5],\n",
       "       [ 25,  73],\n",
       "       [ 28,  14],\n",
       "       [ 28,  82],\n",
       "       [ 28,  32],\n",
       "       [ 28,  61],\n",
       "       [ 29,  31],\n",
       "       [ 29,  87],\n",
       "       [ 30,   4],\n",
       "       [ 30,  73],\n",
       "       [ 33,   4],\n",
       "       [ 33,  92],\n",
       "       [ 33,  14],\n",
       "       [ 33,  81],\n",
       "       [ 34,  17],\n",
       "       [ 34,  73],\n",
       "       [ 37,  26],\n",
       "       [ 37,  75],\n",
       "       [ 38,  35],\n",
       "       [ 38,  92],\n",
       "       [ 39,  36],\n",
       "       [ 39,  61],\n",
       "       [ 39,  28],\n",
       "       [ 39,  65],\n",
       "       [ 40,  55],\n",
       "       [ 40,  47],\n",
       "       [ 40,  42],\n",
       "       [ 40,  42],\n",
       "       [ 42,  52],\n",
       "       [ 42,  60],\n",
       "       [ 43,  54],\n",
       "       [ 43,  60],\n",
       "       [ 43,  45],\n",
       "       [ 43,  41],\n",
       "       [ 44,  50],\n",
       "       [ 44,  46],\n",
       "       [ 46,  51],\n",
       "       [ 46,  46],\n",
       "       [ 46,  56],\n",
       "       [ 46,  55],\n",
       "       [ 47,  52],\n",
       "       [ 47,  59],\n",
       "       [ 48,  51],\n",
       "       [ 48,  59],\n",
       "       [ 48,  50],\n",
       "       [ 48,  48],\n",
       "       [ 48,  59],\n",
       "       [ 48,  47],\n",
       "       [ 49,  55],\n",
       "       [ 49,  42],\n",
       "       [ 50,  49],\n",
       "       [ 50,  56],\n",
       "       [ 54,  47],\n",
       "       [ 54,  54],\n",
       "       [ 54,  53],\n",
       "       [ 54,  48],\n",
       "       [ 54,  52],\n",
       "       [ 54,  42],\n",
       "       [ 54,  51],\n",
       "       [ 54,  55],\n",
       "       [ 54,  41],\n",
       "       [ 54,  44],\n",
       "       [ 54,  57],\n",
       "       [ 54,  46],\n",
       "       [ 57,  58],\n",
       "       [ 57,  55],\n",
       "       [ 58,  60],\n",
       "       [ 58,  46],\n",
       "       [ 59,  55],\n",
       "       [ 59,  41],\n",
       "       [ 60,  49],\n",
       "       [ 60,  40],\n",
       "       [ 60,  42],\n",
       "       [ 60,  52],\n",
       "       [ 60,  47],\n",
       "       [ 60,  50],\n",
       "       [ 61,  42],\n",
       "       [ 61,  49],\n",
       "       [ 62,  41],\n",
       "       [ 62,  48],\n",
       "       [ 62,  59],\n",
       "       [ 62,  55],\n",
       "       [ 62,  56],\n",
       "       [ 62,  42],\n",
       "       [ 63,  50],\n",
       "       [ 63,  46],\n",
       "       [ 63,  43],\n",
       "       [ 63,  48],\n",
       "       [ 63,  52],\n",
       "       [ 63,  54],\n",
       "       [ 64,  42],\n",
       "       [ 64,  46],\n",
       "       [ 65,  48],\n",
       "       [ 65,  50],\n",
       "       [ 65,  43],\n",
       "       [ 65,  59],\n",
       "       [ 67,  43],\n",
       "       [ 67,  57],\n",
       "       [ 67,  56],\n",
       "       [ 67,  40],\n",
       "       [ 69,  58],\n",
       "       [ 69,  91],\n",
       "       [ 70,  29],\n",
       "       [ 70,  77],\n",
       "       [ 71,  35],\n",
       "       [ 71,  95],\n",
       "       [ 71,  11],\n",
       "       [ 71,  75],\n",
       "       [ 71,   9],\n",
       "       [ 71,  75],\n",
       "       [ 72,  34],\n",
       "       [ 72,  71],\n",
       "       [ 73,   5],\n",
       "       [ 73,  88],\n",
       "       [ 73,   7],\n",
       "       [ 73,  73],\n",
       "       [ 74,  10],\n",
       "       [ 74,  72],\n",
       "       [ 75,   5],\n",
       "       [ 75,  93],\n",
       "       [ 76,  40],\n",
       "       [ 76,  87],\n",
       "       [ 77,  12],\n",
       "       [ 77,  97],\n",
       "       [ 77,  36],\n",
       "       [ 77,  74],\n",
       "       [ 78,  22],\n",
       "       [ 78,  90],\n",
       "       [ 78,  17],\n",
       "       [ 78,  88],\n",
       "       [ 78,  20],\n",
       "       [ 78,  76],\n",
       "       [ 78,  16],\n",
       "       [ 78,  89],\n",
       "       [ 78,   1],\n",
       "       [ 78,  78],\n",
       "       [ 78,   1],\n",
       "       [ 78,  73],\n",
       "       [ 79,  35],\n",
       "       [ 79,  83],\n",
       "       [ 81,   5],\n",
       "       [ 81,  93],\n",
       "       [ 85,  26],\n",
       "       [ 85,  75],\n",
       "       [ 86,  20],\n",
       "       [ 86,  95],\n",
       "       [ 87,  27],\n",
       "       [ 87,  63],\n",
       "       [ 87,  13],\n",
       "       [ 87,  75],\n",
       "       [ 87,  10],\n",
       "       [ 87,  92],\n",
       "       [ 88,  13],\n",
       "       [ 88,  86],\n",
       "       [ 88,  15],\n",
       "       [ 88,  69],\n",
       "       [ 93,  14],\n",
       "       [ 93,  90],\n",
       "       [ 97,  32],\n",
       "       [ 97,  86],\n",
       "       [ 98,  15],\n",
       "       [ 98,  88],\n",
       "       [ 99,  39],\n",
       "       [ 99,  97],\n",
       "       [101,  24],\n",
       "       [101,  68],\n",
       "       [103,  17],\n",
       "       [103,  85],\n",
       "       [103,  23],\n",
       "       [103,  69],\n",
       "       [113,   8],\n",
       "       [113,  91],\n",
       "       [120,  16],\n",
       "       [120,  79],\n",
       "       [126,  28],\n",
       "       [126,  74],\n",
       "       [137,  18],\n",
       "       [137,  83]], dtype=int64)"
      ]
     },
     "execution_count": 115,
     "metadata": {},
     "output_type": "execute_result"
    }
   ],
   "source": [
    "X"
   ]
  },
  {
   "cell_type": "code",
   "execution_count": 116,
   "metadata": {
    "scrolled": true
   },
   "outputs": [
    {
     "name": "stdout",
     "output_type": "stream",
     "text": [
      "[50, 132, 76, 137, 146]\n"
     ]
    }
   ],
   "source": [
    "import random as rd\n",
    "\n",
    "sampled_index = rd.sample(range(m),K)\n",
    "print(sampled_index)\n",
    "for i in range(K):\n",
    "    #rand=rd.randint(0,m-1)\n",
    "    rand = sampled_index[i]\n",
    "    Centroids=np.c_[Centroids,X[rand]] #column 방향으로 쌓는다"
   ]
  },
  {
   "cell_type": "code",
   "execution_count": 117,
   "metadata": {
    "scrolled": true
   },
   "outputs": [
    {
     "data": {
      "text/plain": [
       "array([[42., 72., 54., 73., 77.],\n",
       "       [52., 34., 53., 73., 36.]])"
      ]
     },
     "execution_count": 117,
     "metadata": {},
     "output_type": "execute_result"
    }
   ],
   "source": [
    "Centroids"
   ]
  },
  {
   "cell_type": "code",
   "execution_count": 118,
   "metadata": {},
   "outputs": [
    {
     "data": {
      "text/plain": [
       "(2, 5)"
      ]
     },
     "execution_count": 118,
     "metadata": {},
     "output_type": "execute_result"
    }
   ],
   "source": [
    "Centroids.shape"
   ]
  },
  {
   "cell_type": "code",
   "execution_count": 119,
   "metadata": {},
   "outputs": [],
   "source": [
    "EuclidianDistance=np.array([]).reshape(m,0) #데이터 포인트 만큼 배열을 생성함\n",
    "\n",
    "for k in range(K):\n",
    "    tempDist=np.sum((X-Centroids[:,k])**2,axis=1)\n",
    "    EuclidianDistance=np.c_[EuclidianDistance,tempDist] #centroid마다의 거리를 column으로 쌓는다\n",
    "C=np.argmin(EuclidianDistance,axis=1)+1 #거리의 최소값이 어떤 인덱스 인지 알려줌"
   ]
  },
  {
   "cell_type": "code",
   "execution_count": 120,
   "metadata": {
    "scrolled": false
   },
   "outputs": [
    {
     "data": {
      "text/plain": [
       "array([1, 1, 1, 1, 1, 1, 1, 1, 1, 1, 1, 1, 1, 1, 1, 1, 1, 1, 1, 1, 1, 1,\n",
       "       1, 1, 1, 1, 1, 1, 1, 1, 1, 1, 1, 1, 1, 1, 1, 1, 1, 1, 1, 4, 1, 1,\n",
       "       1, 1, 1, 1, 1, 1, 1, 1, 1, 1, 1, 1, 1, 1, 1, 1, 1, 1, 1, 1, 1, 3,\n",
       "       1, 1, 3, 1, 3, 3, 3, 3, 3, 3, 3, 3, 3, 3, 3, 3, 3, 3, 3, 3, 3, 3,\n",
       "       3, 3, 3, 3, 3, 2, 3, 3, 3, 3, 3, 3, 2, 3, 3, 3, 3, 2, 3, 3, 2, 3,\n",
       "       3, 3, 2, 3, 3, 3, 2, 3, 2, 3, 3, 2, 4, 4, 2, 4, 2, 4, 2, 4, 2, 4,\n",
       "       2, 4, 2, 4, 2, 4, 2, 4, 2, 4, 5, 4, 2, 4, 5, 4, 2, 4, 2, 4, 2, 4,\n",
       "       2, 4, 2, 4, 2, 4, 5, 4, 2, 4, 5, 4, 5, 4, 5, 4, 5, 4, 5, 4, 5, 4,\n",
       "       5, 4, 5, 4, 5, 4, 5, 4, 5, 4, 5, 4, 5, 4, 5, 4, 5, 4, 5, 4, 5, 4,\n",
       "       5, 4], dtype=int64)"
      ]
     },
     "execution_count": 120,
     "metadata": {},
     "output_type": "execute_result"
    }
   ],
   "source": [
    "C"
   ]
  },
  {
   "cell_type": "code",
   "execution_count": 121,
   "metadata": {},
   "outputs": [
    {
     "name": "stdout",
     "output_type": "stream",
     "text": [
      "[ 898. 3274. 1717. 4520. 3853.]\n",
      "0\n"
     ]
    }
   ],
   "source": [
    "print(EuclidianDistance[0])\n",
    "print(np.argmin(EuclidianDistance[0]))"
   ]
  },
  {
   "cell_type": "code",
   "execution_count": 122,
   "metadata": {},
   "outputs": [
    {
     "name": "stdout",
     "output_type": "stream",
     "text": [
      "40.67910447761194\n",
      "47.18\n",
      "54.43478260869565\n",
      "83.35365853658537\n",
      "59.5\n"
     ]
    }
   ],
   "source": [
    "Y={}\n",
    "for k in range(K): #클러스터 수만큼 가지는 값들을 초기화\n",
    "    Y[k+1]=np.array([]).reshape(2,0)\n",
    "for i in range(m): #클러스터에 맞는 데이터 포인트들을 추가\n",
    "    #print(C[i],X[i])\n",
    "    Y[C[i]]=np.c_[Y[C[i]],X[i]]\n",
    "     \n",
    "for k in range(K): #column단위로 되어있는 클러스터의 점들을 transpose한다\n",
    "    Y[k+1]=Y[k+1].T\n",
    "    \n",
    "for k in range(K): #평균을 구한다\n",
    "    print(np.mean(Y[k+1]))\n",
    "    Centroids[:,k]=np.mean(Y[k+1],axis=0)"
   ]
  },
  {
   "cell_type": "code",
   "execution_count": 123,
   "metadata": {},
   "outputs": [
    {
     "data": {
      "text/plain": [
       "{1: array([[15., 39.],\n",
       "        [15., 81.],\n",
       "        [16.,  6.],\n",
       "        [16., 77.],\n",
       "        [17., 40.],\n",
       "        [17., 76.],\n",
       "        [18.,  6.],\n",
       "        [18., 94.],\n",
       "        [19.,  3.],\n",
       "        [19., 72.],\n",
       "        [19., 14.],\n",
       "        [19., 99.],\n",
       "        [20., 15.],\n",
       "        [20., 77.],\n",
       "        [20., 13.],\n",
       "        [20., 79.],\n",
       "        [21., 35.],\n",
       "        [21., 66.],\n",
       "        [23., 29.],\n",
       "        [23., 98.],\n",
       "        [24., 35.],\n",
       "        [24., 73.],\n",
       "        [25.,  5.],\n",
       "        [25., 73.],\n",
       "        [28., 14.],\n",
       "        [28., 82.],\n",
       "        [28., 32.],\n",
       "        [28., 61.],\n",
       "        [29., 31.],\n",
       "        [29., 87.],\n",
       "        [30.,  4.],\n",
       "        [30., 73.],\n",
       "        [33.,  4.],\n",
       "        [33., 92.],\n",
       "        [33., 14.],\n",
       "        [33., 81.],\n",
       "        [34., 17.],\n",
       "        [34., 73.],\n",
       "        [37., 26.],\n",
       "        [37., 75.],\n",
       "        [38., 35.],\n",
       "        [39., 36.],\n",
       "        [39., 61.],\n",
       "        [39., 28.],\n",
       "        [39., 65.],\n",
       "        [40., 55.],\n",
       "        [40., 47.],\n",
       "        [40., 42.],\n",
       "        [40., 42.],\n",
       "        [42., 52.],\n",
       "        [42., 60.],\n",
       "        [43., 54.],\n",
       "        [43., 60.],\n",
       "        [43., 45.],\n",
       "        [43., 41.],\n",
       "        [44., 50.],\n",
       "        [44., 46.],\n",
       "        [46., 51.],\n",
       "        [46., 46.],\n",
       "        [46., 56.],\n",
       "        [46., 55.],\n",
       "        [47., 52.],\n",
       "        [47., 59.],\n",
       "        [48., 51.],\n",
       "        [48., 50.],\n",
       "        [48., 48.],\n",
       "        [48., 47.]]), 2: array([[60., 40.],\n",
       "        [62., 41.],\n",
       "        [62., 42.],\n",
       "        [63., 43.],\n",
       "        [64., 42.],\n",
       "        [65., 43.],\n",
       "        [67., 43.],\n",
       "        [67., 40.],\n",
       "        [70., 29.],\n",
       "        [71., 35.],\n",
       "        [71., 11.],\n",
       "        [71.,  9.],\n",
       "        [72., 34.],\n",
       "        [73.,  5.],\n",
       "        [73.,  7.],\n",
       "        [74., 10.],\n",
       "        [75.,  5.],\n",
       "        [77., 12.],\n",
       "        [78., 22.],\n",
       "        [78., 17.],\n",
       "        [78., 20.],\n",
       "        [78., 16.],\n",
       "        [78.,  1.],\n",
       "        [78.,  1.],\n",
       "        [81.,  5.]]), 3: array([[48., 59.],\n",
       "        [48., 59.],\n",
       "        [49., 55.],\n",
       "        [49., 42.],\n",
       "        [50., 49.],\n",
       "        [50., 56.],\n",
       "        [54., 47.],\n",
       "        [54., 54.],\n",
       "        [54., 53.],\n",
       "        [54., 48.],\n",
       "        [54., 52.],\n",
       "        [54., 42.],\n",
       "        [54., 51.],\n",
       "        [54., 55.],\n",
       "        [54., 41.],\n",
       "        [54., 44.],\n",
       "        [54., 57.],\n",
       "        [54., 46.],\n",
       "        [57., 58.],\n",
       "        [57., 55.],\n",
       "        [58., 60.],\n",
       "        [58., 46.],\n",
       "        [59., 55.],\n",
       "        [59., 41.],\n",
       "        [60., 49.],\n",
       "        [60., 42.],\n",
       "        [60., 52.],\n",
       "        [60., 47.],\n",
       "        [60., 50.],\n",
       "        [61., 42.],\n",
       "        [61., 49.],\n",
       "        [62., 48.],\n",
       "        [62., 59.],\n",
       "        [62., 55.],\n",
       "        [62., 56.],\n",
       "        [63., 50.],\n",
       "        [63., 46.],\n",
       "        [63., 48.],\n",
       "        [63., 52.],\n",
       "        [63., 54.],\n",
       "        [64., 46.],\n",
       "        [65., 48.],\n",
       "        [65., 50.],\n",
       "        [65., 59.],\n",
       "        [67., 57.],\n",
       "        [67., 56.]]), 4: array([[ 38.,  92.],\n",
       "        [ 69.,  58.],\n",
       "        [ 69.,  91.],\n",
       "        [ 70.,  77.],\n",
       "        [ 71.,  95.],\n",
       "        [ 71.,  75.],\n",
       "        [ 71.,  75.],\n",
       "        [ 72.,  71.],\n",
       "        [ 73.,  88.],\n",
       "        [ 73.,  73.],\n",
       "        [ 74.,  72.],\n",
       "        [ 75.,  93.],\n",
       "        [ 76.,  87.],\n",
       "        [ 77.,  97.],\n",
       "        [ 77.,  74.],\n",
       "        [ 78.,  90.],\n",
       "        [ 78.,  88.],\n",
       "        [ 78.,  76.],\n",
       "        [ 78.,  89.],\n",
       "        [ 78.,  78.],\n",
       "        [ 78.,  73.],\n",
       "        [ 79.,  83.],\n",
       "        [ 81.,  93.],\n",
       "        [ 85.,  75.],\n",
       "        [ 86.,  95.],\n",
       "        [ 87.,  63.],\n",
       "        [ 87.,  75.],\n",
       "        [ 87.,  92.],\n",
       "        [ 88.,  86.],\n",
       "        [ 88.,  69.],\n",
       "        [ 93.,  90.],\n",
       "        [ 97.,  86.],\n",
       "        [ 98.,  88.],\n",
       "        [ 99.,  97.],\n",
       "        [101.,  68.],\n",
       "        [103.,  85.],\n",
       "        [103.,  69.],\n",
       "        [113.,  91.],\n",
       "        [120.,  79.],\n",
       "        [126.,  74.],\n",
       "        [137.,  83.]]), 5: array([[ 76.,  40.],\n",
       "        [ 77.,  36.],\n",
       "        [ 79.,  35.],\n",
       "        [ 85.,  26.],\n",
       "        [ 86.,  20.],\n",
       "        [ 87.,  27.],\n",
       "        [ 87.,  13.],\n",
       "        [ 87.,  10.],\n",
       "        [ 88.,  13.],\n",
       "        [ 88.,  15.],\n",
       "        [ 93.,  14.],\n",
       "        [ 97.,  32.],\n",
       "        [ 98.,  15.],\n",
       "        [ 99.,  39.],\n",
       "        [101.,  24.],\n",
       "        [103.,  17.],\n",
       "        [103.,  23.],\n",
       "        [113.,   8.],\n",
       "        [120.,  16.],\n",
       "        [126.,  28.],\n",
       "        [137.,  18.]])}"
      ]
     },
     "execution_count": 123,
     "metadata": {},
     "output_type": "execute_result"
    }
   ],
   "source": [
    "Y"
   ]
  },
  {
   "cell_type": "code",
   "execution_count": null,
   "metadata": {},
   "outputs": [],
   "source": []
  },
  {
   "cell_type": "markdown",
   "metadata": {},
   "source": [
    "한번에 합쳐진것"
   ]
  },
  {
   "cell_type": "code",
   "execution_count": 138,
   "metadata": {},
   "outputs": [
    {
     "name": "stdout",
     "output_type": "stream",
     "text": [
      "[60, 183, 96, 59, 128]\n",
      "[[25.72727273 86.53846154 55.2962963  26.30434783 88.2       ]\n",
      " [79.36363636 82.12820513 49.51851852 20.91304348 17.11428571]]\n"
     ]
    },
    {
     "data": {
      "image/png": "[encoded data removed]",
      "text/plain": [
       "<Figure size 432x288 with 1 Axes>"
      ]
     },
     "metadata": {
      "needs_background": "light"
     },
     "output_type": "display_data"
    }
   ],
   "source": [
    "import matplotlib.animation as animation\n",
    "\n",
    "\n",
    "dataset=pd.read_csv('Mall_Customers.csv')\n",
    "dataset.head()\n",
    "X = dataset.iloc[:, [3, 4]].values #annual income과 spending score를 뽑아온다\n",
    "\n",
    "#실행값 초기화\n",
    "m=X.shape[0] # m은 데이터 포인트의 개수\n",
    "n=X.shape[1] # n은 input vector 의 차원 (2차원)\n",
    "n_iter=100 # set max iteration to 100\n",
    "K=5 # number of cluster to 5\n",
    "\n",
    "import random as rd\n",
    "\n",
    "sampled_index = rd.sample(range(m),K)\n",
    "print(sampled_index)\n",
    "\n",
    "#centroid 초기화\n",
    "Centroids=np.array([]).reshape(n,0) \n",
    "for i in range(K):\n",
    "    #rand=rd.randint(0,m-1)\n",
    "    rand = sampled_index[i]\n",
    "    Centroids=np.c_[Centroids,X[rand]] #column 방향으로 쌓는다\n",
    "    \n",
    "\n",
    "for iter in range(n_iter):\n",
    "    EuclidianDistance=np.array([]).reshape(m,0) #데이터 포인트 만큼 배열을 생성함\n",
    "\n",
    "    #centroid를 돌면서 \n",
    "    for k in range(K):\n",
    "        tempDist=np.sum((X-Centroids[:,k])**2,axis=1)\n",
    "        EuclidianDistance=np.c_[EuclidianDistance,tempDist] #centroid마다의 거리를 column으로 쌓는다\n",
    "    C=np.argmin(EuclidianDistance,axis=1)+1 #거리의 최소값이 어떤 인덱스 인지 알려줌 (클러스터 인덱스를 업데이트 한다)\n",
    "\n",
    "\n",
    "    Y={}\n",
    "    for k in range(K): #클러스터 수만큼 가지는 값들을 초기화\n",
    "        Y[k+1]=np.array([]).reshape(2,0)\n",
    "    for i in range(m): #클러스터에 맞는 데이터 포인트들을 추가\n",
    "        #print(C[i],X[i])\n",
    "        Y[C[i]]=np.c_[Y[C[i]],X[i]]\n",
    "\n",
    "    for k in range(K): #column단위로 되어있는 클러스터의 점들을 transpose한다\n",
    "        Y[k+1]=Y[k+1].T\n",
    "\n",
    "    for k in range(K): #평균을 구한다\n",
    "        #print(np.mean(Y[k+1]))\n",
    "        Centroids[:,k]=np.mean(Y[k+1],axis=0)\n",
    "\n",
    "\n",
    "#기존 데이터 점 찍기\n",
    "plt.scatter(X[:,0],X[:,1])\n",
    "\n",
    "#centroid 점 찍기\n",
    "print(Centroids)\n",
    "for k in range(K):\n",
    "    plt.scatter(Centroids[0,k],Centroids[1,k],s=100,c=\"r\")"
   ]
  },
  {
   "cell_type": "code",
   "execution_count": null,
   "metadata": {},
   "outputs": [],
   "source": []
  },
  {
   "cell_type": "code",
   "execution_count": null,
   "metadata": {},
   "outputs": [],
   "source": []
  },
  {
   "cell_type": "code",
   "execution_count": null,
   "metadata": {},
   "outputs": [],
   "source": []
  },
  {
   "cell_type": "code",
   "execution_count": null,
   "metadata": {},
   "outputs": [],
   "source": []
  },
  {
   "cell_type": "code",
   "execution_count": 125,
   "metadata": {},
   "outputs": [
    {
     "name": "stdout",
     "output_type": "stream",
     "text": [
      "[[86.53846154 30.92857143 87.         24.58333333 48.48453608]\n",
      " [82.12820513 35.07142857 18.63157895  9.58333333 56.93814433]]\n",
      "[[86.53846154 30.92857143 87.         24.58333333 48.48453608]\n",
      " [82.12820513 35.07142857 18.63157895  9.58333333 56.93814433]]\n",
      "[[86.53846154 30.92857143 87.         24.58333333 48.48453608]\n",
      " [82.12820513 35.07142857 18.63157895  9.58333333 56.93814433]]\n",
      "[[86.53846154 30.92857143 87.         24.58333333 48.48453608]\n",
      " [82.12820513 35.07142857 18.63157895  9.58333333 56.93814433]]\n",
      "[[86.53846154 30.92857143 87.         24.58333333 48.48453608]\n",
      " [82.12820513 35.07142857 18.63157895  9.58333333 56.93814433]]\n",
      "[[86.53846154 30.92857143 87.         24.58333333 48.48453608]\n",
      " [82.12820513 35.07142857 18.63157895  9.58333333 56.93814433]]\n",
      "[[86.53846154 30.92857143 87.         24.58333333 48.48453608]\n",
      " [82.12820513 35.07142857 18.63157895  9.58333333 56.93814433]]\n",
      "[[86.53846154 30.92857143 87.         24.58333333 48.48453608]\n",
      " [82.12820513 35.07142857 18.63157895  9.58333333 56.93814433]]\n",
      "[[86.53846154 30.92857143 87.         24.58333333 48.48453608]\n",
      " [82.12820513 35.07142857 18.63157895  9.58333333 56.93814433]]\n",
      "[[86.53846154 30.92857143 87.         24.58333333 48.48453608]\n",
      " [82.12820513 35.07142857 18.63157895  9.58333333 56.93814433]]\n",
      "[[86.53846154 30.92857143 87.         24.58333333 48.48453608]\n",
      " [82.12820513 35.07142857 18.63157895  9.58333333 56.93814433]]\n",
      "[[86.53846154 30.92857143 87.         24.58333333 48.48453608]\n",
      " [82.12820513 35.07142857 18.63157895  9.58333333 56.93814433]]\n",
      "[[86.53846154 30.92857143 87.         24.58333333 48.48453608]\n",
      " [82.12820513 35.07142857 18.63157895  9.58333333 56.93814433]]\n",
      "[[86.53846154 30.92857143 87.         24.58333333 48.48453608]\n",
      " [82.12820513 35.07142857 18.63157895  9.58333333 56.93814433]]\n",
      "[[86.53846154 30.92857143 87.         24.58333333 48.48453608]\n",
      " [82.12820513 35.07142857 18.63157895  9.58333333 56.93814433]]\n",
      "[[86.53846154 30.92857143 87.         24.58333333 48.48453608]\n",
      " [82.12820513 35.07142857 18.63157895  9.58333333 56.93814433]]\n",
      "[[86.53846154 30.92857143 87.         24.58333333 48.48453608]\n",
      " [82.12820513 35.07142857 18.63157895  9.58333333 56.93814433]]\n",
      "[[86.53846154 30.92857143 87.         24.58333333 48.48453608]\n",
      " [82.12820513 35.07142857 18.63157895  9.58333333 56.93814433]]\n",
      "[[86.53846154 30.92857143 87.         24.58333333 48.48453608]\n",
      " [82.12820513 35.07142857 18.63157895  9.58333333 56.93814433]]\n",
      "[[86.53846154 30.92857143 87.         24.58333333 48.48453608]\n",
      " [82.12820513 35.07142857 18.63157895  9.58333333 56.93814433]]\n",
      "[[86.53846154 30.92857143 87.         24.58333333 48.48453608]\n",
      " [82.12820513 35.07142857 18.63157895  9.58333333 56.93814433]]\n",
      "[[86.53846154 30.92857143 87.         24.58333333 48.48453608]\n",
      " [82.12820513 35.07142857 18.63157895  9.58333333 56.93814433]]\n",
      "[[86.53846154 30.92857143 87.         24.58333333 48.48453608]\n",
      " [82.12820513 35.07142857 18.63157895  9.58333333 56.93814433]]\n",
      "[[86.53846154 30.92857143 87.         24.58333333 48.48453608]\n",
      " [82.12820513 35.07142857 18.63157895  9.58333333 56.93814433]]\n",
      "[[86.53846154 30.92857143 87.         24.58333333 48.48453608]\n",
      " [82.12820513 35.07142857 18.63157895  9.58333333 56.93814433]]\n",
      "[[86.53846154 30.92857143 87.         24.58333333 48.48453608]\n",
      " [82.12820513 35.07142857 18.63157895  9.58333333 56.93814433]]\n",
      "[[86.53846154 30.92857143 87.         24.58333333 48.48453608]\n",
      " [82.12820513 35.07142857 18.63157895  9.58333333 56.93814433]]\n",
      "[[86.53846154 30.92857143 87.         24.58333333 48.48453608]\n",
      " [82.12820513 35.07142857 18.63157895  9.58333333 56.93814433]]\n",
      "[[86.53846154 30.92857143 87.         24.58333333 48.48453608]\n",
      " [82.12820513 35.07142857 18.63157895  9.58333333 56.93814433]]\n",
      "[[86.53846154 30.92857143 87.         24.58333333 48.48453608]\n",
      " [82.12820513 35.07142857 18.63157895  9.58333333 56.93814433]]\n",
      "[[86.53846154 30.92857143 87.         24.58333333 48.48453608]\n",
      " [82.12820513 35.07142857 18.63157895  9.58333333 56.93814433]]\n",
      "[[86.53846154 30.92857143 87.         24.58333333 48.48453608]\n",
      " [82.12820513 35.07142857 18.63157895  9.58333333 56.93814433]]\n",
      "[[86.53846154 30.92857143 87.         24.58333333 48.48453608]\n",
      " [82.12820513 35.07142857 18.63157895  9.58333333 56.93814433]]\n",
      "[[86.53846154 30.92857143 87.         24.58333333 48.48453608]\n",
      " [82.12820513 35.07142857 18.63157895  9.58333333 56.93814433]]\n",
      "[[86.53846154 30.92857143 87.         24.58333333 48.48453608]\n",
      " [82.12820513 35.07142857 18.63157895  9.58333333 56.93814433]]\n",
      "[[86.53846154 30.92857143 87.         24.58333333 48.48453608]\n",
      " [82.12820513 35.07142857 18.63157895  9.58333333 56.93814433]]\n",
      "[[86.53846154 30.92857143 87.         24.58333333 48.48453608]\n",
      " [82.12820513 35.07142857 18.63157895  9.58333333 56.93814433]]\n",
      "[[86.53846154 30.92857143 87.         24.58333333 48.48453608]\n",
      " [82.12820513 35.07142857 18.63157895  9.58333333 56.93814433]]\n",
      "[[86.53846154 30.92857143 87.         24.58333333 48.48453608]\n",
      " [82.12820513 35.07142857 18.63157895  9.58333333 56.93814433]]\n",
      "[[86.53846154 30.92857143 87.         24.58333333 48.48453608]\n",
      " [82.12820513 35.07142857 18.63157895  9.58333333 56.93814433]]\n",
      "[[86.53846154 30.92857143 87.         24.58333333 48.48453608]\n",
      " [82.12820513 35.07142857 18.63157895  9.58333333 56.93814433]]\n",
      "[[86.53846154 30.92857143 87.         24.58333333 48.48453608]\n",
      " [82.12820513 35.07142857 18.63157895  9.58333333 56.93814433]]\n",
      "[[86.53846154 30.92857143 87.         24.58333333 48.48453608]\n",
      " [82.12820513 35.07142857 18.63157895  9.58333333 56.93814433]]\n",
      "[[86.53846154 30.92857143 87.         24.58333333 48.48453608]\n",
      " [82.12820513 35.07142857 18.63157895  9.58333333 56.93814433]]\n",
      "[[86.53846154 30.92857143 87.         24.58333333 48.48453608]\n",
      " [82.12820513 35.07142857 18.63157895  9.58333333 56.93814433]]\n",
      "[[86.53846154 30.92857143 87.         24.58333333 48.48453608]\n",
      " [82.12820513 35.07142857 18.63157895  9.58333333 56.93814433]]\n",
      "[[86.53846154 30.92857143 87.         24.58333333 48.48453608]\n",
      " [82.12820513 35.07142857 18.63157895  9.58333333 56.93814433]]\n",
      "[[86.53846154 30.92857143 87.         24.58333333 48.48453608]\n",
      " [82.12820513 35.07142857 18.63157895  9.58333333 56.93814433]]\n",
      "[[86.53846154 30.92857143 87.         24.58333333 48.48453608]\n",
      " [82.12820513 35.07142857 18.63157895  9.58333333 56.93814433]]\n",
      "[[86.53846154 30.92857143 87.         24.58333333 48.48453608]\n",
      " [82.12820513 35.07142857 18.63157895  9.58333333 56.93814433]]\n",
      "[[86.53846154 30.92857143 87.         24.58333333 48.48453608]\n",
      " [82.12820513 35.07142857 18.63157895  9.58333333 56.93814433]]\n",
      "[[86.53846154 30.92857143 87.         24.58333333 48.48453608]\n",
      " [82.12820513 35.07142857 18.63157895  9.58333333 56.93814433]]\n",
      "[[86.53846154 30.92857143 87.         24.58333333 48.48453608]\n",
      " [82.12820513 35.07142857 18.63157895  9.58333333 56.93814433]]\n",
      "[[86.53846154 30.92857143 87.         24.58333333 48.48453608]\n",
      " [82.12820513 35.07142857 18.63157895  9.58333333 56.93814433]]\n",
      "[[86.53846154 30.92857143 87.         24.58333333 48.48453608]\n",
      " [82.12820513 35.07142857 18.63157895  9.58333333 56.93814433]]\n",
      "[[86.53846154 30.92857143 87.         24.58333333 48.48453608]\n",
      " [82.12820513 35.07142857 18.63157895  9.58333333 56.93814433]]\n",
      "[[86.53846154 30.92857143 87.         24.58333333 48.48453608]\n",
      " [82.12820513 35.07142857 18.63157895  9.58333333 56.93814433]]\n",
      "[[86.53846154 30.92857143 87.         24.58333333 48.48453608]\n",
      " [82.12820513 35.07142857 18.63157895  9.58333333 56.93814433]]\n",
      "[[86.53846154 30.92857143 87.         24.58333333 48.48453608]\n",
      " [82.12820513 35.07142857 18.63157895  9.58333333 56.93814433]]\n",
      "[[86.53846154 30.92857143 87.         24.58333333 48.48453608]\n",
      " [82.12820513 35.07142857 18.63157895  9.58333333 56.93814433]]\n",
      "[[86.53846154 30.92857143 87.         24.58333333 48.48453608]\n",
      " [82.12820513 35.07142857 18.63157895  9.58333333 56.93814433]]\n",
      "[[86.53846154 30.92857143 87.         24.58333333 48.48453608]\n",
      " [82.12820513 35.07142857 18.63157895  9.58333333 56.93814433]]\n",
      "[[86.53846154 30.92857143 87.         24.58333333 48.48453608]\n",
      " [82.12820513 35.07142857 18.63157895  9.58333333 56.93814433]]\n",
      "[[86.53846154 30.92857143 87.         24.58333333 48.48453608]\n",
      " [82.12820513 35.07142857 18.63157895  9.58333333 56.93814433]]\n",
      "[[86.53846154 30.92857143 87.         24.58333333 48.48453608]\n",
      " [82.12820513 35.07142857 18.63157895  9.58333333 56.93814433]]\n",
      "[[86.53846154 30.92857143 87.         24.58333333 48.48453608]\n",
      " [82.12820513 35.07142857 18.63157895  9.58333333 56.93814433]]\n",
      "[[86.53846154 30.92857143 87.         24.58333333 48.48453608]\n",
      " [82.12820513 35.07142857 18.63157895  9.58333333 56.93814433]]\n",
      "[[86.53846154 30.92857143 87.         24.58333333 48.48453608]\n",
      " [82.12820513 35.07142857 18.63157895  9.58333333 56.93814433]]\n",
      "[[86.53846154 30.92857143 87.         24.58333333 48.48453608]\n",
      " [82.12820513 35.07142857 18.63157895  9.58333333 56.93814433]]\n",
      "[[86.53846154 30.92857143 87.         24.58333333 48.48453608]\n",
      " [82.12820513 35.07142857 18.63157895  9.58333333 56.93814433]]\n",
      "[[86.53846154 30.92857143 87.         24.58333333 48.48453608]\n",
      " [82.12820513 35.07142857 18.63157895  9.58333333 56.93814433]]\n",
      "[[86.53846154 30.92857143 87.         24.58333333 48.48453608]\n",
      " [82.12820513 35.07142857 18.63157895  9.58333333 56.93814433]]\n",
      "[[86.53846154 30.92857143 87.         24.58333333 48.48453608]\n",
      " [82.12820513 35.07142857 18.63157895  9.58333333 56.93814433]]\n"
     ]
    },
    {
     "name": "stdout",
     "output_type": "stream",
     "text": [
      "[[86.53846154 30.92857143 87.         24.58333333 48.48453608]\n",
      " [82.12820513 35.07142857 18.63157895  9.58333333 56.93814433]]\n",
      "[[86.53846154 30.92857143 87.         24.58333333 48.48453608]\n",
      " [82.12820513 35.07142857 18.63157895  9.58333333 56.93814433]]\n",
      "[[86.53846154 30.92857143 87.         24.58333333 48.48453608]\n",
      " [82.12820513 35.07142857 18.63157895  9.58333333 56.93814433]]\n",
      "[[86.53846154 30.92857143 87.         24.58333333 48.48453608]\n",
      " [82.12820513 35.07142857 18.63157895  9.58333333 56.93814433]]\n",
      "[[86.53846154 30.92857143 87.         24.58333333 48.48453608]\n",
      " [82.12820513 35.07142857 18.63157895  9.58333333 56.93814433]]\n",
      "[[86.53846154 30.92857143 87.         24.58333333 48.48453608]\n",
      " [82.12820513 35.07142857 18.63157895  9.58333333 56.93814433]]\n",
      "[[86.53846154 30.92857143 87.         24.58333333 48.48453608]\n",
      " [82.12820513 35.07142857 18.63157895  9.58333333 56.93814433]]\n",
      "[[86.53846154 30.92857143 87.         24.58333333 48.48453608]\n",
      " [82.12820513 35.07142857 18.63157895  9.58333333 56.93814433]]\n",
      "[[86.53846154 30.92857143 87.         24.58333333 48.48453608]\n",
      " [82.12820513 35.07142857 18.63157895  9.58333333 56.93814433]]\n",
      "[[86.53846154 30.92857143 87.         24.58333333 48.48453608]\n",
      " [82.12820513 35.07142857 18.63157895  9.58333333 56.93814433]]\n",
      "[[86.53846154 30.92857143 87.         24.58333333 48.48453608]\n",
      " [82.12820513 35.07142857 18.63157895  9.58333333 56.93814433]]\n",
      "[[86.53846154 30.92857143 87.         24.58333333 48.48453608]\n",
      " [82.12820513 35.07142857 18.63157895  9.58333333 56.93814433]]\n",
      "[[86.53846154 30.92857143 87.         24.58333333 48.48453608]\n",
      " [82.12820513 35.07142857 18.63157895  9.58333333 56.93814433]]\n",
      "[[86.53846154 30.92857143 87.         24.58333333 48.48453608]\n",
      " [82.12820513 35.07142857 18.63157895  9.58333333 56.93814433]]\n",
      "[[86.53846154 30.92857143 87.         24.58333333 48.48453608]\n",
      " [82.12820513 35.07142857 18.63157895  9.58333333 56.93814433]]\n",
      "[[86.53846154 30.92857143 87.         24.58333333 48.48453608]\n",
      " [82.12820513 35.07142857 18.63157895  9.58333333 56.93814433]]\n",
      "[[86.53846154 30.92857143 87.         24.58333333 48.48453608]\n",
      " [82.12820513 35.07142857 18.63157895  9.58333333 56.93814433]]\n",
      "[[86.53846154 30.92857143 87.         24.58333333 48.48453608]\n",
      " [82.12820513 35.07142857 18.63157895  9.58333333 56.93814433]]\n",
      "[[86.53846154 30.92857143 87.         24.58333333 48.48453608]\n",
      " [82.12820513 35.07142857 18.63157895  9.58333333 56.93814433]]\n",
      "[[86.53846154 30.92857143 87.         24.58333333 48.48453608]\n",
      " [82.12820513 35.07142857 18.63157895  9.58333333 56.93814433]]\n",
      "[[86.53846154 30.92857143 87.         24.58333333 48.48453608]\n",
      " [82.12820513 35.07142857 18.63157895  9.58333333 56.93814433]]\n",
      "[[86.53846154 30.92857143 87.         24.58333333 48.48453608]\n",
      " [82.12820513 35.07142857 18.63157895  9.58333333 56.93814433]]\n",
      "[[86.53846154 30.92857143 87.         24.58333333 48.48453608]\n",
      " [82.12820513 35.07142857 18.63157895  9.58333333 56.93814433]]\n",
      "[[86.53846154 30.92857143 87.         24.58333333 48.48453608]\n",
      " [82.12820513 35.07142857 18.63157895  9.58333333 56.93814433]]\n",
      "[[86.53846154 30.92857143 87.         24.58333333 48.48453608]\n",
      " [82.12820513 35.07142857 18.63157895  9.58333333 56.93814433]]\n",
      "[[86.53846154 30.92857143 87.         24.58333333 48.48453608]\n",
      " [82.12820513 35.07142857 18.63157895  9.58333333 56.93814433]]\n",
      "[[86.53846154 30.92857143 87.         24.58333333 48.48453608]\n",
      " [82.12820513 35.07142857 18.63157895  9.58333333 56.93814433]]\n"
     ]
    }
   ],
   "source": [
    "for i in range(n_iter):\n",
    "    #step 2.a\n",
    "    EuclidianDistance=np.array([]).reshape(m,0)\n",
    "    for k in range(K):\n",
    "        tempDist=np.sum((X-Centroids[:,k])**2,axis=1)\n",
    "        EuclidianDistance=np.c_[EuclidianDistance,tempDist]\n",
    "        C=np.argmin(EuclidianDistance,axis=1)+1\n",
    "    #step 2.b\n",
    "    Y={}\n",
    "    for k in range(K):\n",
    "        Y[k+1]=np.array([]).reshape(2,0)\n",
    "    for i in range(m):\n",
    "        Y[C[i]]=np.c_[Y[C[i]],X[i]]\n",
    "     \n",
    "    for k in range(K):\n",
    "        Y[k+1]=Y[k+1].T\n",
    "    \n",
    "    for k in range(K):\n",
    "        Centroids[:,k]=np.mean(Y[k+1],axis=0)\n",
    "        \n",
    "    print(Centroids)\n",
    "    Output=Y"
   ]
  },
  {
   "cell_type": "code",
   "execution_count": 126,
   "metadata": {},
   "outputs": [
    {
     "data": {
      "text/plain": [
       "{1: array([[ 69.,  91.],\n",
       "        [ 70.,  77.],\n",
       "        [ 71.,  95.],\n",
       "        [ 71.,  75.],\n",
       "        [ 71.,  75.],\n",
       "        [ 72.,  71.],\n",
       "        [ 73.,  88.],\n",
       "        [ 73.,  73.],\n",
       "        [ 74.,  72.],\n",
       "        [ 75.,  93.],\n",
       "        [ 76.,  87.],\n",
       "        [ 77.,  97.],\n",
       "        [ 77.,  74.],\n",
       "        [ 78.,  90.],\n",
       "        [ 78.,  88.],\n",
       "        [ 78.,  76.],\n",
       "        [ 78.,  89.],\n",
       "        [ 78.,  78.],\n",
       "        [ 78.,  73.],\n",
       "        [ 79.,  83.],\n",
       "        [ 81.,  93.],\n",
       "        [ 85.,  75.],\n",
       "        [ 86.,  95.],\n",
       "        [ 87.,  63.],\n",
       "        [ 87.,  75.],\n",
       "        [ 87.,  92.],\n",
       "        [ 88.,  86.],\n",
       "        [ 88.,  69.],\n",
       "        [ 93.,  90.],\n",
       "        [ 97.,  86.],\n",
       "        [ 98.,  88.],\n",
       "        [ 99.,  97.],\n",
       "        [101.,  68.],\n",
       "        [103.,  85.],\n",
       "        [103.,  69.],\n",
       "        [113.,  91.],\n",
       "        [120.,  79.],\n",
       "        [126.,  74.],\n",
       "        [137.,  83.]]), 2: array([[15., 39.],\n",
       "        [17., 40.],\n",
       "        [21., 35.],\n",
       "        [23., 29.],\n",
       "        [24., 35.],\n",
       "        [28., 32.],\n",
       "        [29., 31.],\n",
       "        [37., 26.],\n",
       "        [38., 35.],\n",
       "        [39., 36.],\n",
       "        [39., 28.],\n",
       "        [40., 42.],\n",
       "        [40., 42.],\n",
       "        [43., 41.]]), 3: array([[ 70.,  29.],\n",
       "        [ 71.,  35.],\n",
       "        [ 71.,  11.],\n",
       "        [ 71.,   9.],\n",
       "        [ 72.,  34.],\n",
       "        [ 73.,   5.],\n",
       "        [ 73.,   7.],\n",
       "        [ 74.,  10.],\n",
       "        [ 75.,   5.],\n",
       "        [ 76.,  40.],\n",
       "        [ 77.,  12.],\n",
       "        [ 77.,  36.],\n",
       "        [ 78.,  22.],\n",
       "        [ 78.,  17.],\n",
       "        [ 78.,  20.],\n",
       "        [ 78.,  16.],\n",
       "        [ 78.,   1.],\n",
       "        [ 78.,   1.],\n",
       "        [ 79.,  35.],\n",
       "        [ 81.,   5.],\n",
       "        [ 85.,  26.],\n",
       "        [ 86.,  20.],\n",
       "        [ 87.,  27.],\n",
       "        [ 87.,  13.],\n",
       "        [ 87.,  10.],\n",
       "        [ 88.,  13.],\n",
       "        [ 88.,  15.],\n",
       "        [ 93.,  14.],\n",
       "        [ 97.,  32.],\n",
       "        [ 98.,  15.],\n",
       "        [ 99.,  39.],\n",
       "        [101.,  24.],\n",
       "        [103.,  17.],\n",
       "        [103.,  23.],\n",
       "        [113.,   8.],\n",
       "        [120.,  16.],\n",
       "        [126.,  28.],\n",
       "        [137.,  18.]]), 4: array([[16.,  6.],\n",
       "        [18.,  6.],\n",
       "        [19.,  3.],\n",
       "        [19., 14.],\n",
       "        [20., 15.],\n",
       "        [20., 13.],\n",
       "        [25.,  5.],\n",
       "        [28., 14.],\n",
       "        [30.,  4.],\n",
       "        [33.,  4.],\n",
       "        [33., 14.],\n",
       "        [34., 17.]]), 5: array([[15., 81.],\n",
       "        [16., 77.],\n",
       "        [17., 76.],\n",
       "        [18., 94.],\n",
       "        [19., 72.],\n",
       "        [19., 99.],\n",
       "        [20., 77.],\n",
       "        [20., 79.],\n",
       "        [21., 66.],\n",
       "        [23., 98.],\n",
       "        [24., 73.],\n",
       "        [25., 73.],\n",
       "        [28., 82.],\n",
       "        [28., 61.],\n",
       "        [29., 87.],\n",
       "        [30., 73.],\n",
       "        [33., 92.],\n",
       "        [33., 81.],\n",
       "        [34., 73.],\n",
       "        [37., 75.],\n",
       "        [38., 92.],\n",
       "        [39., 61.],\n",
       "        [39., 65.],\n",
       "        [40., 55.],\n",
       "        [40., 47.],\n",
       "        [42., 52.],\n",
       "        [42., 60.],\n",
       "        [43., 54.],\n",
       "        [43., 60.],\n",
       "        [43., 45.],\n",
       "        [44., 50.],\n",
       "        [44., 46.],\n",
       "        [46., 51.],\n",
       "        [46., 46.],\n",
       "        [46., 56.],\n",
       "        [46., 55.],\n",
       "        [47., 52.],\n",
       "        [47., 59.],\n",
       "        [48., 51.],\n",
       "        [48., 59.],\n",
       "        [48., 50.],\n",
       "        [48., 48.],\n",
       "        [48., 59.],\n",
       "        [48., 47.],\n",
       "        [49., 55.],\n",
       "        [49., 42.],\n",
       "        [50., 49.],\n",
       "        [50., 56.],\n",
       "        [54., 47.],\n",
       "        [54., 54.],\n",
       "        [54., 53.],\n",
       "        [54., 48.],\n",
       "        [54., 52.],\n",
       "        [54., 42.],\n",
       "        [54., 51.],\n",
       "        [54., 55.],\n",
       "        [54., 41.],\n",
       "        [54., 44.],\n",
       "        [54., 57.],\n",
       "        [54., 46.],\n",
       "        [57., 58.],\n",
       "        [57., 55.],\n",
       "        [58., 60.],\n",
       "        [58., 46.],\n",
       "        [59., 55.],\n",
       "        [59., 41.],\n",
       "        [60., 49.],\n",
       "        [60., 40.],\n",
       "        [60., 42.],\n",
       "        [60., 52.],\n",
       "        [60., 47.],\n",
       "        [60., 50.],\n",
       "        [61., 42.],\n",
       "        [61., 49.],\n",
       "        [62., 41.],\n",
       "        [62., 48.],\n",
       "        [62., 59.],\n",
       "        [62., 55.],\n",
       "        [62., 56.],\n",
       "        [62., 42.],\n",
       "        [63., 50.],\n",
       "        [63., 46.],\n",
       "        [63., 43.],\n",
       "        [63., 48.],\n",
       "        [63., 52.],\n",
       "        [63., 54.],\n",
       "        [64., 42.],\n",
       "        [64., 46.],\n",
       "        [65., 48.],\n",
       "        [65., 50.],\n",
       "        [65., 43.],\n",
       "        [65., 59.],\n",
       "        [67., 43.],\n",
       "        [67., 57.],\n",
       "        [67., 56.],\n",
       "        [67., 40.],\n",
       "        [69., 58.]])}"
      ]
     },
     "execution_count": 126,
     "metadata": {},
     "output_type": "execute_result"
    }
   ],
   "source": [
    "Output"
   ]
  },
  {
   "cell_type": "code",
   "execution_count": null,
   "metadata": {},
   "outputs": [],
   "source": []
  },
  {
   "cell_type": "code",
   "execution_count": null,
   "metadata": {},
   "outputs": [],
   "source": []
  },
  {
   "cell_type": "code",
   "execution_count": null,
   "metadata": {},
   "outputs": [],
   "source": []
  }
 ],
 "metadata": {
  "kernelspec": {
   "display_name": "Python 3",
   "language": "python",
   "name": "python3"
  },
  "language_info": {
   "codemirror_mode": {
    "name": "ipython",
    "version": 3
   },
   "file_extension": ".py",
   "mimetype": "text/x-python",
   "name": "python",
   "nbconvert_exporter": "python",
   "pygments_lexer": "ipython3",
   "version": "3.7.1"
  }
 },
 "nbformat": 4,
 "nbformat_minor": 1
}
