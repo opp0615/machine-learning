{
 "cells": [
  {
   "cell_type": "markdown",
   "metadata": {},
   "source": [
    "# Classification"
   ]
  },
  {
   "cell_type": "markdown",
   "metadata": {},
   "source": [
    "우리는 앞에서 기계학습의 대표적인 알고리즘의 하나인 회귀(regression)에 대해 공부하였다. 다음의 한가지 예를 우리가 배운 기계학습 알고리즘 풀어보자. \n",
    "\n",
    "먼저 여러분이 입학관리시스템을 reverse engineering 한다고 가정하다. 여러분에게는 세종대학교에 지원한 고등학생들이 학생부 데이터를 갖고 있으며, 학생들의 합격/ 불합격에 대한 데이터도 갖고 있다. 우리가 세종대학교의 입학관리시스템의 알고리즘을 알고 싶다고 할 때,  이 문제를 regression으로 할 수 있을까? \n",
    "\n",
    "안타깝게도 본 문제는 회귀로 학습이 되지 못한다. 우리가 알고 있는 regression에서 dependent variable 은 연속적인 숫자였는데, 이 데이터의 dependent variable 은 binary(True of False)이다! 그렇다면, 우리는 이제 새로운 알고리즘을 공부하여야 한다. \n"
   ]
  },
  {
   "cell_type": "markdown",
   "metadata": {},
   "source": [
    "## Logistic Regression Algorithm"
   ]
  },
  {
   "cell_type": "markdown",
   "metadata": {},
   "source": [
    "먼저 classification에서 가장 간단하고 고전적인 로지스틱 회귀에 대해 알아보자."
   ]
  },
  {
   "cell_type": "markdown",
   "metadata": {},
   "source": [
    "앞에서 Classification은 불연속적인 dependent variable을 결정할 때 사용된다고 설명하였다. 즉dependent variable은 categorical한 값이다. (예시 1, 코끼리,고양이,말, 토끼, 강아지   예시 2 양성 종양, 음성 종양). 당분간 예시1의 multiclass classification 은 미루어두고, 먼저 예시 2의 binary classification에 집중하도록 하자. Binary classification은 dependent variable 값이 2개인 경우를 binary classification이라고 한다. (영어의 접두사 Bi...는 2를 뜻한다. Bicycle은 바퀴가 cycle이 2개이어서 Bicycle이다 ) \n"
   ]
  },
  {
   "cell_type": "markdown",
   "metadata": {},
   "source": [
    "자 그렇다면, 우리가 알고있는 알고리즘을 활용하여 dependent variable을 두개로 나눌 수 있을까? \n",
    "(가능하니까, 물어봤을 것이다...)"
   ]
  },
  {
   "cell_type": "code",
   "execution_count": 2,
   "metadata": {},
   "outputs": [],
   "source": [
    "import math\n",
    "import matplotlib.pyplot as plt\n",
    "import numpy as np"
   ]
  },
  {
   "cell_type": "code",
   "execution_count": 3,
   "metadata": {},
   "outputs": [],
   "source": [
    "def sigmoid(x):\n",
    "    a = []\n",
    "    for item in x:\n",
    "               #(the sigmoid function)\n",
    "        a.append(1/(1+math.exp(-item)))\n",
    "    return a"
   ]
  },
  {
   "cell_type": "markdown",
   "metadata": {},
   "source": [
    "sigmoid 함수는 출력값을 0과 1 사이에 mapping 시켜주는 함수이다. 이 함수만 잘 사용하면 된다! "
   ]
  },
  {
   "cell_type": "code",
   "execution_count": 4,
   "metadata": {},
   "outputs": [],
   "source": [
    "x = np.arange(-10., 10., 0.2)"
   ]
  },
  {
   "cell_type": "markdown",
   "metadata": {},
   "source": [
    "x의 입력값들을 먼저 정의하고, 이 값들에 대응하는 y값을 계산하여 그래프로 그려보자."
   ]
  },
  {
   "cell_type": "code",
   "execution_count": 5,
   "metadata": {},
   "outputs": [],
   "source": [
    "y = sigmoid(x)"
   ]
  },
  {
   "cell_type": "code",
   "execution_count": 6,
   "metadata": {},
   "outputs": [
    {
     "data": {
      "image/png": "[encoded data removed]",
      "text/plain": [
       "<Figure size 432x288 with 1 Axes>"
      ]
     },
     "metadata": {
      "needs_background": "light"
     },
     "output_type": "display_data"
    }
   ],
   "source": [
    "plt.plot(x,y)\n",
    "plt.show()"
   ]
  },
  {
   "cell_type": "markdown",
   "metadata": {},
   "source": [
    "## Hypothesis and Cost Function"
   ]
  },
  {
   "cell_type": "markdown",
   "metadata": {},
   "source": [
    "sigmoid의 형태를 앞의 절에서 배웠다. 이제 이것을 바탕으로 hypothesis(가정)와 cost function을 정의하여, 데이터를 기반으로 학습을 하는 과정을 배우도록하자. 먼저 hypothesis와 cost function을 정의하자."
   ]
  },
  {
   "cell_type": "markdown",
   "metadata": {},
   "source": [
    "### Hypothesis"
   ]
  },
  {
   "cell_type": "markdown",
   "metadata": {},
   "source": [
    "우리는 앞에서 regression을 다음과 같이 표현한다고 배웠다."
   ]
  },
  {
   "cell_type": "markdown",
   "metadata": {},
   "source": [
    " $h_θ(x)={θ}^T{x}=θ_0+θ_1x_1+θ_2x_2+⋯+θ_Kx_K$"
   ]
  },
  {
   "cell_type": "markdown",
   "metadata": {},
   "source": [
    "binary function에는 sigmoid 함수만 masking하면 된다. (간단하다)"
   ]
  },
  {
   "cell_type": "markdown",
   "metadata": {},
   "source": [
    " $h_θ(x)=\\sigma ({θ}^T{x})$"
   ]
  },
  {
   "cell_type": "markdown",
   "metadata": {},
   "source": [
    "여기서 sigmoid함수는 다음과 같다."
   ]
  },
  {
   "cell_type": "markdown",
   "metadata": {},
   "source": [
    "$\\sigma(z) = {1\\over 1+\\exp(-z)}$"
   ]
  },
  {
   "cell_type": "markdown",
   "metadata": {},
   "source": [
    "Hypothesis 함수는 아래와 같이 정의할 수 있으며, 함수가 의미하는 것은 다음과 같다."
   ]
  },
  {
   "cell_type": "markdown",
   "metadata": {},
   "source": [
    "$$\n",
    "{  h_\\sigma(x) =\n",
    "  \\begin{cases}\n",
    "    >0.5      & \\quad \\text{if }\\theta^Tx>0\\\\\n",
    "    <0.5  & \\quad \\text{if } \\theta^Tx<0\n",
    "  \\end{cases}\n",
    "}\n",
    "$$"
   ]
  },
  {
   "cell_type": "markdown",
   "metadata": {},
   "source": [
    "위 식을 보면, 입력값의 가중치 합이 0보다 크면, 예측된 class 는 1이고, 0보다 작으면 그 반대이다. 즉 decision boundary (클래스를 나누는 경계)는 가중치의 합이 0일때가 된다. "
   ]
  },
  {
   "cell_type": "markdown",
   "metadata": {},
   "source": [
    "### Cost Function"
   ]
  },
  {
   "cell_type": "markdown",
   "metadata": {},
   "source": [
    "선형회귀 때와 마찬가지로, 이번에도 cost function을 정의하여, 궁극적으로 cost function을 최소화 하며 가중치를 학습할 것이다. "
   ]
  },
  {
   "cell_type": "markdown",
   "metadata": {},
   "source": [
    "간단한 예로 하나의 데이터 포인트로 모델을 학습한다고 할 때 다음과 같다. "
   ]
  },
  {
   "cell_type": "markdown",
   "metadata": {},
   "source": [
    "$$\n",
    "{  \\text{cost} =\n",
    "  \\begin{cases}\n",
    "    -\\log(h_\\theta(x))      & \\quad \\text{if }y=1\\\\\n",
    "     -\\log(1-h_\\theta(x))   & \\quad \\text{if }y=0\n",
    "  \\end{cases}\n",
    "}\n",
    "$$"
   ]
  },
  {
   "cell_type": "markdown",
   "metadata": {},
   "source": [
    "cost function에 대한 해석은 다음과 같다. \n",
    "\n",
    "먼저 binary class의 label은 숫자인 0과 1로 표기한다고 할 때, 실제 값이 1이고 모델이 0으로 예측을 하였거나, 실제 값이 0인데 모델이 1로 예측을 하였다면, 우리는 cost 함수를 penalize 할 필요가 있다. 위 함수를 보면 알 수 있듯이 -log(h(x)) 함수의 경우 h(x)가 1로 가까워 질 때, 0으로 수렴하나, h(x)가 0가 0에 가까워지면 무한대에 가까워진다. 반대로 -log(1-h(x))의 함수는 실제 값이 0이고 예측된값이 0이면 0에 수렴하고, 예측값이 1일 때 무한대로 가게 되는 것을 볼 수 있다. 즉 모델이 실제 값을 맞게 예측할 때 cost의 값은 0에 수렴한다.\n",
    "\n",
    "\n"
   ]
  },
  {
   "cell_type": "markdown",
   "metadata": {},
   "source": [
    "위 함수를 수학식으로 1라인으로 표기한다고 한다면 어떻게 표현할 수 있을까? "
   ]
  },
  {
   "cell_type": "code",
   "execution_count": null,
   "metadata": {},
   "outputs": [],
   "source": []
  }
 ],
 "metadata": {
  "kernelspec": {
   "display_name": "Python 3",
   "language": "python",
   "name": "python3"
  },
  "language_info": {
   "codemirror_mode": {
    "name": "ipython",
    "version": 3
   },
   "file_extension": ".py",
   "mimetype": "text/x-python",
   "name": "python",
   "nbconvert_exporter": "python",
   "pygments_lexer": "ipython3",
   "version": "3.7.1"
  }
 },
 "nbformat": 4,
 "nbformat_minor": 2
}
