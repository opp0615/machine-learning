{
 "cells": [
  {
   "cell_type": "markdown",
   "metadata": {},
   "source": [
    "__원활한 채점을 위하여 notebook을 html로 저장하여 제출하시오__\n",
    "\n",
    "__파일명은 HW2_학번_이름   으로 저장할 것__"
   ]
  },
  {
   "cell_type": "markdown",
   "metadata": {},
   "source": [
    "먼저 다음 데이터를 로딩하시오"
   ]
  },
  {
   "cell_type": "code",
   "execution_count": 79,
   "metadata": {},
   "outputs": [],
   "source": [
    "%matplotlib inline\n",
    "from matplotlib import pyplot as plt\n",
    "import pandas as pd\n",
    "import numpy as np"
   ]
  },
  {
   "cell_type": "code",
   "execution_count": 80,
   "metadata": {},
   "outputs": [
    {
     "data": {
      "text/html": [
       "<div>\n",
       "<style scoped>\n",
       "    .dataframe tbody tr th:only-of-type {\n",
       "        vertical-align: middle;\n",
       "    }\n",
       "\n",
       "    .dataframe tbody tr th {\n",
       "        vertical-align: top;\n",
       "    }\n",
       "\n",
       "    .dataframe thead th {\n",
       "        text-align: right;\n",
       "    }\n",
       "</style>\n",
       "<table border=\"1\" class=\"dataframe\">\n",
       "  <thead>\n",
       "    <tr style=\"text-align: right;\">\n",
       "      <th></th>\n",
       "      <th>feature1</th>\n",
       "      <th>feature2</th>\n",
       "      <th>y_label</th>\n",
       "    </tr>\n",
       "  </thead>\n",
       "  <tbody>\n",
       "    <tr>\n",
       "      <th>0</th>\n",
       "      <td>34.623660</td>\n",
       "      <td>78.024693</td>\n",
       "      <td>0</td>\n",
       "    </tr>\n",
       "    <tr>\n",
       "      <th>1</th>\n",
       "      <td>30.286711</td>\n",
       "      <td>43.894998</td>\n",
       "      <td>0</td>\n",
       "    </tr>\n",
       "    <tr>\n",
       "      <th>2</th>\n",
       "      <td>35.847409</td>\n",
       "      <td>72.902198</td>\n",
       "      <td>0</td>\n",
       "    </tr>\n",
       "    <tr>\n",
       "      <th>3</th>\n",
       "      <td>60.182599</td>\n",
       "      <td>86.308552</td>\n",
       "      <td>1</td>\n",
       "    </tr>\n",
       "    <tr>\n",
       "      <th>4</th>\n",
       "      <td>79.032736</td>\n",
       "      <td>75.344376</td>\n",
       "      <td>1</td>\n",
       "    </tr>\n",
       "  </tbody>\n",
       "</table>\n",
       "</div>"
      ],
      "text/plain": [
       "    feature1   feature2  y_label\n",
       "0  34.623660  78.024693        0\n",
       "1  30.286711  43.894998        0\n",
       "2  35.847409  72.902198        0\n",
       "3  60.182599  86.308552        1\n",
       "4  79.032736  75.344376        1"
      ]
     },
     "execution_count": 80,
     "metadata": {},
     "output_type": "execute_result"
    }
   ],
   "source": [
    "data = pd.read_csv('hw2data.txt',\n",
    "                   header=None, names = ('feature1','feature2','y_label'))\n",
    "data.head()"
   ]
  },
  {
   "cell_type": "code",
   "execution_count": 81,
   "metadata": {},
   "outputs": [
    {
     "data": {
      "text/plain": [
       "(100, 3)"
      ]
     },
     "execution_count": 81,
     "metadata": {},
     "output_type": "execute_result"
    }
   ],
   "source": [
    "data.shape"
   ]
  },
  {
   "cell_type": "markdown",
   "metadata": {},
   "source": [
    "### 1번 feature1, feature2 를 X 로, y_label을 y 로 하여  scatter plot 을 이용하여 y값에 따라 색깔을 달리 하여 그래프로 그리시오."
   ]
  },
  {
   "cell_type": "code",
   "execution_count": 82,
   "metadata": {},
   "outputs": [],
   "source": [
    "X = data.iloc[:,:2].values\n",
    "Y = data.iloc[:,2].values"
   ]
  },
  {
   "cell_type": "code",
   "execution_count": 83,
   "metadata": {},
   "outputs": [
    {
     "data": {
      "image/png": "[encoded data removed]",
      "text/plain": [
       "<Figure size 432x288 with 1 Axes>"
      ]
     },
     "metadata": {
      "needs_background": "light"
     },
     "output_type": "display_data"
    }
   ],
   "source": [
    "plt.scatter(X[y == 1, 0], X[y == 1, 1], c='blue', label='Released')\n",
    "plt.scatter(X[y == 0, 0], X[y == 0, 1], c='red', label='Faulty')\n",
    "plt.xlabel(\"feature1\")\n",
    "plt.ylabel(\"feature2\")\n",
    "plt.legend();"
   ]
  },
  {
   "cell_type": "markdown",
   "metadata": {},
   "source": [
    " "
   ]
  },
  {
   "cell_type": "markdown",
   "metadata": {},
   "source": [
    "### 2번 Gradient Descent를 이용하여, 직접 $\\theta$ 값'들'을 구해보자."
   ]
  },
  {
   "cell_type": "markdown",
   "metadata": {},
   "source": [
    "하나의 샘플에서 cost는 다음과 같았다. \n",
    "$$\n",
    "{  \\text{cost} =\n",
    "  \\begin{cases}\n",
    "    -\\log(h_\\theta(x))      & \\quad \\text{if }y=1\\\\\n",
    "     -\\log(1-h_\\theta(x))   & \\quad \\text{if }y=0\n",
    "  \\end{cases}\n",
    "}\n",
    "$$\n",
    "100 개의 샘플을 위 cost의 모든 샘플의 평균이라고 하자 (cost의 합 나누기 샘플 수)"
   ]
  },
  {
   "cell_type": "markdown",
   "metadata": {},
   "source": [
    "numpy array를 적극 활용하여 sum을 마지막에 구하는게 이상적이나, 직접 100개의 합을 구해도 된다. "
   ]
  },
  {
   "cell_type": "markdown",
   "metadata": {},
   "source": [
    "linear regression의 GD와 오늘 배운 미분식을 이용하여, learning rate 0.1로 하고, step size를 500으로 하여, $\\theta$들을 구해보자."
   ]
  },
  {
   "cell_type": "markdown",
   "metadata": {},
   "source": [
    "(초기 값이 다 다르므로, 모든 학생들의 $ \\theta $는 상이할 것이라고 예상한다. )"
   ]
  },
  {
   "cell_type": "code",
   "execution_count": 84,
   "metadata": {},
   "outputs": [],
   "source": [
    "import math\n",
    "import matplotlib.pyplot as plt\n",
    "import numpy as np\n",
    "from random import *"
   ]
  },
  {
   "cell_type": "code",
   "execution_count": 85,
   "metadata": {},
   "outputs": [],
   "source": [
    "X0 = np.ones(len(Y));\n",
    "X0 = X0.reshape(-1,1);\n",
    "X = np.hstack((X0,X));"
   ]
  },
  {
   "cell_type": "markdown",
   "metadata": {},
   "source": [
    "theta값 초기화"
   ]
  },
  {
   "cell_type": "code",
   "execution_count": 113,
   "metadata": {},
   "outputs": [],
   "source": [
    "def init_theta():\n",
    "    #-10 부터 10까지의 랜덤 변수\n",
    "    theta0 = random()*20-10;\n",
    "    theta1 = random()*20-10;\n",
    "    theta2 = random()*20-10;\n",
    "    \n",
    "    return theta0,theta1,theta2;"
   ]
  },
  {
   "cell_type": "markdown",
   "metadata": {},
   "source": [
    "sigmoid 함수 정의"
   ]
  },
  {
   "cell_type": "code",
   "execution_count": 131,
   "metadata": {},
   "outputs": [],
   "source": [
    "def sigmoid(x):\n",
    "    return float(1/(1+np.exp(-x)));"
   ]
  },
  {
   "cell_type": "code",
   "execution_count": 132,
   "metadata": {},
   "outputs": [
    {
     "name": "stdout",
     "output_type": "stream",
     "text": [
      "0.5951726838556624 0.6718005671039717 0.6536605251423864\n"
     ]
    }
   ],
   "source": [
    "print(sigmoid(theta0),sigmoid(theta1),sigmoid(theta2));"
   ]
  },
  {
   "cell_type": "markdown",
   "metadata": {},
   "source": [
    "cost 함수 정의"
   ]
  },
  {
   "cell_type": "code",
   "execution_count": 133,
   "metadata": {},
   "outputs": [],
   "source": [
    "def compute_cost(theta0, theta1,theta2, X,Y):\n",
    "    total_cost = 0;\n",
    "    N = float(len(Y)); #코스트 값을 나눌때 자동형변환을 방지하기위해 float로 형변환\n",
    "    \n",
    "    for i in range(len(Y)):\n",
    "        x0 = X[i,0];\n",
    "        x1 = X[i,1];\n",
    "        x2 = X[i,2];\n",
    "        y = Y[i];\n",
    "        print(theta0*x0 + theta1*x1 + theta2 * x2);\n",
    "        print(sigmoid(theta0*x0 + theta1*x1 + theta2 * x2));\n",
    "        total_cost += (-y*math.log(sigmoid(theta0*x0 + theta1*x1 + theta2 * x2))\n",
    "                             - (1-y)*math.log(1.0-sigmoid(theta0*x0 + theta1*x1 + theta2 * x2))); \n",
    "    \n",
    "    return total_cost/N; #에러값의 제곱값의 합을 개수로 나눈것을 코스트값이라 정의한다"
   ]
  },
  {
   "cell_type": "code",
   "execution_count": 134,
   "metadata": {},
   "outputs": [
    {
     "name": "stdout",
     "output_type": "stream",
     "text": [
      "0.7446943547954685 0.8745502858615176 0.3922313130787849\n",
      "61.6285534925271\n",
      "1.0\n"
     ]
    },
    {
     "ename": "ValueError",
     "evalue": "math domain error",
     "output_type": "error",
     "traceback": [
      "\u001b[1;31m---------------------------------------------------------------------------\u001b[0m",
      "\u001b[1;31mValueError\u001b[0m                                Traceback (most recent call last)",
      "\u001b[1;32m<ipython-input-134-49da9837dc00>\u001b[0m in \u001b[0;36m<module>\u001b[1;34m\u001b[0m\n\u001b[0;32m      1\u001b[0m \u001b[0mtheta0\u001b[0m\u001b[1;33m,\u001b[0m\u001b[0mtheta1\u001b[0m\u001b[1;33m,\u001b[0m\u001b[0mtheta2\u001b[0m \u001b[1;33m=\u001b[0m \u001b[0minit_theta\u001b[0m\u001b[1;33m(\u001b[0m\u001b[1;33m)\u001b[0m\u001b[1;33m;\u001b[0m\u001b[1;33m\u001b[0m\u001b[1;33m\u001b[0m\u001b[0m\n\u001b[0;32m      2\u001b[0m \u001b[0mprint\u001b[0m\u001b[1;33m(\u001b[0m\u001b[0mtheta0\u001b[0m\u001b[1;33m,\u001b[0m\u001b[0mtheta1\u001b[0m\u001b[1;33m,\u001b[0m\u001b[0mtheta2\u001b[0m\u001b[1;33m)\u001b[0m\u001b[1;33m;\u001b[0m\u001b[1;33m\u001b[0m\u001b[1;33m\u001b[0m\u001b[0m\n\u001b[1;32m----> 3\u001b[1;33m \u001b[0mprint\u001b[0m\u001b[1;33m(\u001b[0m\u001b[0mcompute_cost\u001b[0m\u001b[1;33m(\u001b[0m\u001b[0mtheta0\u001b[0m\u001b[1;33m,\u001b[0m\u001b[0mtheta1\u001b[0m\u001b[1;33m,\u001b[0m\u001b[0mtheta2\u001b[0m\u001b[1;33m,\u001b[0m\u001b[0mX\u001b[0m\u001b[1;33m,\u001b[0m\u001b[0mY\u001b[0m\u001b[1;33m)\u001b[0m\u001b[1;33m)\u001b[0m\u001b[1;33m\u001b[0m\u001b[1;33m\u001b[0m\u001b[0m\n\u001b[0m",
      "\u001b[1;32m<ipython-input-133-b5e7f9d11a6b>\u001b[0m in \u001b[0;36mcompute_cost\u001b[1;34m(theta0, theta1, theta2, X, Y)\u001b[0m\n\u001b[0;32m     11\u001b[0m         \u001b[0mprint\u001b[0m\u001b[1;33m(\u001b[0m\u001b[0msigmoid\u001b[0m\u001b[1;33m(\u001b[0m\u001b[0mtheta0\u001b[0m\u001b[1;33m*\u001b[0m\u001b[0mx0\u001b[0m \u001b[1;33m+\u001b[0m \u001b[0mtheta1\u001b[0m\u001b[1;33m*\u001b[0m\u001b[0mx1\u001b[0m \u001b[1;33m+\u001b[0m \u001b[0mtheta2\u001b[0m \u001b[1;33m*\u001b[0m \u001b[0mx2\u001b[0m\u001b[1;33m)\u001b[0m\u001b[1;33m)\u001b[0m\u001b[1;33m;\u001b[0m\u001b[1;33m\u001b[0m\u001b[1;33m\u001b[0m\u001b[0m\n\u001b[0;32m     12\u001b[0m         total_cost += (-y*math.log(sigmoid(theta0*x0 + theta1*x1 + theta2 * x2))\n\u001b[1;32m---> 13\u001b[1;33m                              - (1-y)*math.log(1.0-sigmoid(theta0*x0 + theta1*x1 + theta2 * x2))); \n\u001b[0m\u001b[0;32m     14\u001b[0m \u001b[1;33m\u001b[0m\u001b[0m\n\u001b[0;32m     15\u001b[0m     \u001b[1;32mreturn\u001b[0m \u001b[0mtotal_cost\u001b[0m\u001b[1;33m/\u001b[0m\u001b[0mN\u001b[0m\u001b[1;33m;\u001b[0m \u001b[1;31m#에러값의 제곱값의 합을 개수로 나눈것을 코스트값이라 정의한다\u001b[0m\u001b[1;33m\u001b[0m\u001b[1;33m\u001b[0m\u001b[0m\n",
      "\u001b[1;31mValueError\u001b[0m: math domain error"
     ]
    }
   ],
   "source": [
    "theta0,theta1,theta2 = init_theta();\n",
    "print(theta0,theta1,theta2);\n",
    "print(compute_cost(theta0,theta1,theta2,X,Y))"
   ]
  },
  {
   "cell_type": "code",
   "execution_count": 95,
   "metadata": {},
   "outputs": [],
   "source": [
    "def step_gradient(theta0_current, theta1_current,theta2_current, X,Y, learing_rate):\n",
    "    theta0_gradient = 0;\n",
    "    theta1_gradient = 0;\n",
    "    theta2_gradient = 0;\n",
    "    N = float(len(Y));\n",
    "    \n",
    "    #현재 m,n 값에서의 기울기(경사도)를 구한다\n",
    "    for i in range(len(points)):\n",
    "        x0 = X[i,0];\n",
    "        x1 = X[i,1];\n",
    "        x2 = X[i,2];\n",
    "        y = Y[i,0];\n",
    "        theta0_gradient += (sigmoid(theta0*x0 + theta1*x1 + theta2 * x2)-y)*x0;\n",
    "        theta1_gradient += (sigmoid(theta0*x0 + theta1*x1 + theta2 * x2)-y)*x1;\n",
    "        theta2_gradient += (sigmoid(theta0*x0 + theta1*x1 + theta2 * x2)-y)*x2;\n",
    "        \n",
    "        \n",
    "    #위에서 구한 경사도에 따라 경사를 따라 내려간다\n",
    "    theta0_updated = theta0_current - learing_rate * theta0_gradient;\n",
    "    theta1_updated = theta1_current - learing_rate * theta1_gradient;\n",
    "    theta2_updated = theta2_current - learing_rate * theta2_gradient;\n",
    "    \n",
    "    return theta0_updated, theta1_updated,theta2_updated; #업데이트 된 값을 반환한다"
   ]
  },
  {
   "cell_type": "code",
   "execution_count": 96,
   "metadata": {},
   "outputs": [],
   "source": [
    "def gradient_descent_runner(X,Y, starting_theta0, starting_theta1,starting_theta2, learning_rate, num_iterations):\n",
    "    #초기값으로 부터 gradient descent를 실행한다\n",
    "    theta0 = starting_theta0;\n",
    "    theta1 = starting_theta1;\n",
    "    theta2 = starting_theta2;\n",
    "    \n",
    "    cost_graph = [];\n",
    "    \n",
    "    #원하는 반복 수 만큼 경사를 따라 내려간다\n",
    "    for i in range(num_iterations):\n",
    "        cost_graph.append(compute_cost(theta0, theta1,theta2, X,Y)); #현재 m,n,points에 따른 코스트 값\n",
    "        theta0, theta1,theta2 = step_gradient(theta0, theta1,theta2, X,Y, learning_rate); #경사를 내려가는 스텝\n",
    "        \n",
    "    return [theta0, theta1,theta2,cost_graph]"
   ]
  },
  {
   "cell_type": "code",
   "execution_count": 97,
   "metadata": {},
   "outputs": [
    {
     "ename": "NameError",
     "evalue": "name 'points' is not defined",
     "output_type": "error",
     "traceback": [
      "\u001b[1;31m---------------------------------------------------------------------------\u001b[0m",
      "\u001b[1;31mNameError\u001b[0m                                 Traceback (most recent call last)",
      "\u001b[1;32m<ipython-input-97-29111ec3eb0f>\u001b[0m in \u001b[0;36m<module>\u001b[1;34m\u001b[0m\n\u001b[0;32m     15\u001b[0m \u001b[1;33m\u001b[0m\u001b[0m\n\u001b[0;32m     16\u001b[0m \u001b[1;32mfor\u001b[0m \u001b[0mi\u001b[0m \u001b[1;32min\u001b[0m \u001b[0mrange\u001b[0m\u001b[1;33m(\u001b[0m\u001b[0mgd_iterations\u001b[0m\u001b[1;33m)\u001b[0m\u001b[1;33m:\u001b[0m\u001b[1;33m\u001b[0m\u001b[1;33m\u001b[0m\u001b[0m\n\u001b[1;32m---> 17\u001b[1;33m     \u001b[0mtheta0\u001b[0m\u001b[1;33m,\u001b[0m \u001b[0mtheta1\u001b[0m\u001b[1;33m,\u001b[0m\u001b[0mtheta2\u001b[0m \u001b[1;33m,\u001b[0m \u001b[0mcost_graph\u001b[0m \u001b[1;33m=\u001b[0m \u001b[0mgradient_descent_runner\u001b[0m\u001b[1;33m(\u001b[0m\u001b[0mX\u001b[0m\u001b[1;33m,\u001b[0m\u001b[0mY\u001b[0m\u001b[1;33m,\u001b[0m \u001b[0minit_theta0\u001b[0m\u001b[1;33m,\u001b[0m\u001b[0minit_theta1\u001b[0m\u001b[1;33m,\u001b[0m\u001b[0minit_theta2\u001b[0m\u001b[1;33m,\u001b[0m \u001b[0mlearning_rate\u001b[0m\u001b[1;33m,\u001b[0m \u001b[0mnum_iterations\u001b[0m\u001b[1;33m)\u001b[0m\u001b[1;33m\u001b[0m\u001b[1;33m\u001b[0m\u001b[0m\n\u001b[0m\u001b[0;32m     18\u001b[0m     \u001b[0mtheta0_list\u001b[0m\u001b[1;33m.\u001b[0m\u001b[0mappend\u001b[0m\u001b[1;33m(\u001b[0m\u001b[0mtheta0\u001b[0m\u001b[1;33m)\u001b[0m\u001b[1;33m;\u001b[0m\u001b[1;33m\u001b[0m\u001b[1;33m\u001b[0m\u001b[0m\n\u001b[0;32m     19\u001b[0m     \u001b[0mtheta1_list\u001b[0m\u001b[1;33m.\u001b[0m\u001b[0mappend\u001b[0m\u001b[1;33m(\u001b[0m\u001b[0mtheta1\u001b[0m\u001b[1;33m)\u001b[0m\u001b[1;33m;\u001b[0m\u001b[1;33m\u001b[0m\u001b[1;33m\u001b[0m\u001b[0m\n",
      "\u001b[1;32m<ipython-input-96-76911398a6f0>\u001b[0m in \u001b[0;36mgradient_descent_runner\u001b[1;34m(X, Y, starting_theta0, starting_theta1, starting_theta2, learning_rate, num_iterations)\u001b[0m\n\u001b[0;32m      9\u001b[0m     \u001b[1;31m#원하는 반복 수 만큼 경사를 따라 내려간다\u001b[0m\u001b[1;33m\u001b[0m\u001b[1;33m\u001b[0m\u001b[1;33m\u001b[0m\u001b[0m\n\u001b[0;32m     10\u001b[0m     \u001b[1;32mfor\u001b[0m \u001b[0mi\u001b[0m \u001b[1;32min\u001b[0m \u001b[0mrange\u001b[0m\u001b[1;33m(\u001b[0m\u001b[0mnum_iterations\u001b[0m\u001b[1;33m)\u001b[0m\u001b[1;33m:\u001b[0m\u001b[1;33m\u001b[0m\u001b[1;33m\u001b[0m\u001b[0m\n\u001b[1;32m---> 11\u001b[1;33m         \u001b[0mcost_graph\u001b[0m\u001b[1;33m.\u001b[0m\u001b[0mappend\u001b[0m\u001b[1;33m(\u001b[0m\u001b[0mcompute_cost\u001b[0m\u001b[1;33m(\u001b[0m\u001b[0mtheta0\u001b[0m\u001b[1;33m,\u001b[0m \u001b[0mtheta1\u001b[0m\u001b[1;33m,\u001b[0m\u001b[0mtheta2\u001b[0m\u001b[1;33m,\u001b[0m \u001b[0mX\u001b[0m\u001b[1;33m,\u001b[0m\u001b[0mY\u001b[0m\u001b[1;33m)\u001b[0m\u001b[1;33m)\u001b[0m\u001b[1;33m;\u001b[0m \u001b[1;31m#현재 m,n,points에 따른 코스트 값\u001b[0m\u001b[1;33m\u001b[0m\u001b[1;33m\u001b[0m\u001b[0m\n\u001b[0m\u001b[0;32m     12\u001b[0m         \u001b[0mtheta0\u001b[0m\u001b[1;33m,\u001b[0m \u001b[0mtheta1\u001b[0m\u001b[1;33m,\u001b[0m\u001b[0mtheta2\u001b[0m \u001b[1;33m=\u001b[0m \u001b[0mstep_gradient\u001b[0m\u001b[1;33m(\u001b[0m\u001b[0mtheta0\u001b[0m\u001b[1;33m,\u001b[0m \u001b[0mtheta1\u001b[0m\u001b[1;33m,\u001b[0m\u001b[0mtheta2\u001b[0m\u001b[1;33m,\u001b[0m \u001b[0mX\u001b[0m\u001b[1;33m,\u001b[0m\u001b[0mY\u001b[0m\u001b[1;33m,\u001b[0m \u001b[0mlearning_rate\u001b[0m\u001b[1;33m)\u001b[0m\u001b[1;33m;\u001b[0m \u001b[1;31m#경사를 내려가는 스텝\u001b[0m\u001b[1;33m\u001b[0m\u001b[1;33m\u001b[0m\u001b[0m\n\u001b[0;32m     13\u001b[0m \u001b[1;33m\u001b[0m\u001b[0m\n",
      "\u001b[1;32m<ipython-input-94-6ccad9921a08>\u001b[0m in \u001b[0;36mcompute_cost\u001b[1;34m(theta0, theta1, theta2, X, Y)\u001b[0m\n\u001b[0;32m      1\u001b[0m \u001b[1;32mdef\u001b[0m \u001b[0mcompute_cost\u001b[0m\u001b[1;33m(\u001b[0m\u001b[0mtheta0\u001b[0m\u001b[1;33m,\u001b[0m \u001b[0mtheta1\u001b[0m\u001b[1;33m,\u001b[0m\u001b[0mtheta2\u001b[0m\u001b[1;33m,\u001b[0m \u001b[0mX\u001b[0m\u001b[1;33m,\u001b[0m\u001b[0mY\u001b[0m\u001b[1;33m)\u001b[0m\u001b[1;33m:\u001b[0m\u001b[1;33m\u001b[0m\u001b[1;33m\u001b[0m\u001b[0m\n\u001b[0;32m      2\u001b[0m     \u001b[0mtotal_cost\u001b[0m \u001b[1;33m=\u001b[0m \u001b[1;36m0\u001b[0m\u001b[1;33m;\u001b[0m\u001b[1;33m\u001b[0m\u001b[1;33m\u001b[0m\u001b[0m\n\u001b[1;32m----> 3\u001b[1;33m     \u001b[0mN\u001b[0m \u001b[1;33m=\u001b[0m \u001b[0mfloat\u001b[0m\u001b[1;33m(\u001b[0m\u001b[0mlen\u001b[0m\u001b[1;33m(\u001b[0m\u001b[0mpoints\u001b[0m\u001b[1;33m)\u001b[0m\u001b[1;33m)\u001b[0m\u001b[1;33m;\u001b[0m \u001b[1;31m#코스트 값을 나눌때 자동형변환을 방지하기위해 float로 형변환\u001b[0m\u001b[1;33m\u001b[0m\u001b[1;33m\u001b[0m\u001b[0m\n\u001b[0m\u001b[0;32m      4\u001b[0m \u001b[1;33m\u001b[0m\u001b[0m\n\u001b[0;32m      5\u001b[0m     \u001b[1;32mfor\u001b[0m \u001b[0mi\u001b[0m \u001b[1;32min\u001b[0m \u001b[0mrange\u001b[0m\u001b[1;33m(\u001b[0m\u001b[0mlen\u001b[0m\u001b[1;33m(\u001b[0m\u001b[0mpoints\u001b[0m\u001b[1;33m)\u001b[0m\u001b[1;33m)\u001b[0m\u001b[1;33m:\u001b[0m\u001b[1;33m\u001b[0m\u001b[1;33m\u001b[0m\u001b[0m\n",
      "\u001b[1;31mNameError\u001b[0m: name 'points' is not defined"
     ]
    }
   ],
   "source": [
    "learning_rate = 0.1     # hyper parameter: alpha\n",
    "num_iterations = 500    # hyper parameter: number of steps \n",
    "init_theta0,init_theta1,init_theta2 = init_theta();\n",
    "gd_iterations = 1; #GD를 반복하는 횟수 \n",
    "\n",
    "#각 gd스텝을 저장할 theta의 리스트\n",
    "theta0_list = [];\n",
    "theta1_list = [];\n",
    "theta2_list = [];\n",
    "\n",
    "#0번째 값\n",
    "theta0_list.append(init_theta0);\n",
    "theta1_list.append(init_theta1);\n",
    "theta2_list.append(init_theta2);\n",
    "\n",
    "for i in range(gd_iterations):\n",
    "    theta0, theta1,theta2 , cost_graph = gradient_descent_runner(X,Y, init_theta0,init_theta1,init_theta2, learning_rate, num_iterations)\n",
    "    theta0_list.append(theta0);\n",
    "    theta1_list.append(theta1);\n",
    "    theta2_list.append(theta2);\n",
    "    \n",
    "    init_theta0 = theta0;\n",
    "    init_theta1 = theta1;\n",
    "    init_theta2 = theta2;\n",
    "    "
   ]
  },
  {
   "cell_type": "markdown",
   "metadata": {},
   "source": [
    "### 3. 위에서 구한 $\\theta$들을 이용하여 decision boundary를 그려보자. \n",
    "왜 그렇게 그리게 되었는지 서술하시오. "
   ]
  },
  {
   "cell_type": "markdown",
   "metadata": {},
   "source": [
    "### 4. Stochastic Gradient Decsent 란 GD를 빠르게 수행하는 알고리즘으로 샘플 100개를 다 방문하는게 아니라 각 스텝별 임의로 샘플을 하나 골라 GD를 수행하는 알고리즘이다. SGD로 2번을 반복하시오."
   ]
  },
  {
   "cell_type": "code",
   "execution_count": null,
   "metadata": {},
   "outputs": [],
   "source": []
  }
 ],
 "metadata": {
  "kernelspec": {
   "display_name": "Python 3",
   "language": "python",
   "name": "python3"
  },
  "language_info": {
   "codemirror_mode": {
    "name": "ipython",
    "version": 3
   },
   "file_extension": ".py",
   "mimetype": "text/x-python",
   "name": "python",
   "nbconvert_exporter": "python",
   "pygments_lexer": "ipython3",
   "version": "3.7.1"
  }
 },
 "nbformat": 4,
 "nbformat_minor": 2
}
