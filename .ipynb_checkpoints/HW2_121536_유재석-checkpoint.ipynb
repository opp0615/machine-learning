{
 "cells": [
  {
   "cell_type": "markdown",
   "metadata": {},
   "source": [
    "__원활한 채점을 위하여 notebook을 html로 저장하여 제출하시오__\n",
    "\n",
    "__파일명은 HW2_학번_이름   으로 저장할 것__"
   ]
  },
  {
   "cell_type": "markdown",
   "metadata": {},
   "source": [
    "먼저 다음 데이터를 로딩하시오"
   ]
  },
  {
   "cell_type": "code",
   "execution_count": 4,
   "metadata": {},
   "outputs": [],
   "source": [
    "%matplotlib inline\n",
    "from matplotlib import pyplot as plt\n",
    "import pandas as pd\n",
    "import numpy as np"
   ]
  },
  {
   "cell_type": "code",
   "execution_count": 5,
   "metadata": {},
   "outputs": [
    {
     "data": {
      "text/html": [
       "<div>\n",
       "<style scoped>\n",
       "    .dataframe tbody tr th:only-of-type {\n",
       "        vertical-align: middle;\n",
       "    }\n",
       "\n",
       "    .dataframe tbody tr th {\n",
       "        vertical-align: top;\n",
       "    }\n",
       "\n",
       "    .dataframe thead th {\n",
       "        text-align: right;\n",
       "    }\n",
       "</style>\n",
       "<table border=\"1\" class=\"dataframe\">\n",
       "  <thead>\n",
       "    <tr style=\"text-align: right;\">\n",
       "      <th></th>\n",
       "      <th>feature1</th>\n",
       "      <th>feature2</th>\n",
       "      <th>y_label</th>\n",
       "    </tr>\n",
       "  </thead>\n",
       "  <tbody>\n",
       "    <tr>\n",
       "      <th>0</th>\n",
       "      <td>34.623660</td>\n",
       "      <td>78.024693</td>\n",
       "      <td>0</td>\n",
       "    </tr>\n",
       "    <tr>\n",
       "      <th>1</th>\n",
       "      <td>30.286711</td>\n",
       "      <td>43.894998</td>\n",
       "      <td>0</td>\n",
       "    </tr>\n",
       "    <tr>\n",
       "      <th>2</th>\n",
       "      <td>35.847409</td>\n",
       "      <td>72.902198</td>\n",
       "      <td>0</td>\n",
       "    </tr>\n",
       "    <tr>\n",
       "      <th>3</th>\n",
       "      <td>60.182599</td>\n",
       "      <td>86.308552</td>\n",
       "      <td>1</td>\n",
       "    </tr>\n",
       "    <tr>\n",
       "      <th>4</th>\n",
       "      <td>79.032736</td>\n",
       "      <td>75.344376</td>\n",
       "      <td>1</td>\n",
       "    </tr>\n",
       "  </tbody>\n",
       "</table>\n",
       "</div>"
      ],
      "text/plain": [
       "    feature1   feature2  y_label\n",
       "0  34.623660  78.024693        0\n",
       "1  30.286711  43.894998        0\n",
       "2  35.847409  72.902198        0\n",
       "3  60.182599  86.308552        1\n",
       "4  79.032736  75.344376        1"
      ]
     },
     "execution_count": 5,
     "metadata": {},
     "output_type": "execute_result"
    }
   ],
   "source": [
    "data = pd.read_csv('hw2data.txt',\n",
    "                   header=None, names = ('feature1','feature2','y_label'))\n",
    "data.head()"
   ]
  },
  {
   "cell_type": "code",
   "execution_count": 6,
   "metadata": {
    "scrolled": true
   },
   "outputs": [
    {
     "data": {
      "text/plain": [
       "(100, 3)"
      ]
     },
     "execution_count": 6,
     "metadata": {},
     "output_type": "execute_result"
    }
   ],
   "source": [
    "data.shape"
   ]
  },
  {
   "cell_type": "markdown",
   "metadata": {},
   "source": [
    "### 1번 feature1, feature2 를 X 로, y_label을 y 로 하여  scatter plot 을 이용하여 y값에 따라 색깔을 달리 하여 그래프로 그리시오."
   ]
  },
  {
   "cell_type": "code",
   "execution_count": 7,
   "metadata": {},
   "outputs": [],
   "source": [
    "X = data.iloc[:,:2].values\n",
    "Y = data.iloc[:,2].values"
   ]
  },
  {
   "cell_type": "code",
   "execution_count": 8,
   "metadata": {
    "scrolled": true
   },
   "outputs": [
    {
     "data": {
      "image/png": "[encoded data removed]",
      "text/plain": [
       "<Figure size 432x288 with 1 Axes>"
      ]
     },
     "metadata": {
      "needs_background": "light"
     },
     "output_type": "display_data"
    }
   ],
   "source": [
    "plt.scatter(X[Y == 1, 0], X[Y == 1, 1], c='blue', label='Released')\n",
    "plt.scatter(X[Y == 0, 0], X[Y == 0, 1], c='red', label='Faulty')\n",
    "plt.xlabel(\"feature1\")\n",
    "plt.ylabel(\"feature2\")\n",
    "plt.legend();"
   ]
  },
  {
   "cell_type": "markdown",
   "metadata": {},
   "source": [
    " "
   ]
  },
  {
   "cell_type": "markdown",
   "metadata": {},
   "source": [
    "### 2번 Gradient Descent를 이용하여, 직접 $\\theta$ 값'들'을 구해보자."
   ]
  },
  {
   "cell_type": "markdown",
   "metadata": {},
   "source": [
    "하나의 샘플에서 cost는 다음과 같았다. \n",
    "$$\n",
    "{  \\text{cost} =\n",
    "  \\begin{cases}\n",
    "    -\\log(h_\\theta(x))      & \\quad \\text{if }y=1\\\\\n",
    "     -\\log(1-h_\\theta(x))   & \\quad \\text{if }y=0\n",
    "  \\end{cases}\n",
    "}\n",
    "$$\n",
    "100 개의 샘플을 위 cost의 모든 샘플의 평균이라고 하자 (cost의 합 나누기 샘플 수)"
   ]
  },
  {
   "cell_type": "markdown",
   "metadata": {},
   "source": [
    "numpy array를 적극 활용하여 sum을 마지막에 구하는게 이상적이나, 직접 100개의 합을 구해도 된다. "
   ]
  },
  {
   "cell_type": "markdown",
   "metadata": {},
   "source": [
    "linear regression의 GD와 오늘 배운 미분식을 이용하여, learning rate 0.1로 하고, step size를 500으로 하여, $\\theta$들을 구해보자."
   ]
  },
  {
   "cell_type": "markdown",
   "metadata": {},
   "source": [
    "(초기 값이 다 다르므로, 모든 학생들의 $ \\theta $는 상이할 것이라고 예상한다. )"
   ]
  },
  {
   "cell_type": "code",
   "execution_count": 9,
   "metadata": {},
   "outputs": [],
   "source": [
    "import math\n",
    "import matplotlib.pyplot as plt\n",
    "import numpy as np\n",
    "from random import *"
   ]
  },
  {
   "cell_type": "code",
   "execution_count": 10,
   "metadata": {},
   "outputs": [],
   "source": [
    "X0 = np.ones(len(Y));\n",
    "X0 = X0.reshape(-1,1);\n",
    "X = np.hstack((X0,X));"
   ]
  },
  {
   "cell_type": "code",
   "execution_count": 11,
   "metadata": {},
   "outputs": [
    {
     "name": "stdout",
     "output_type": "stream",
     "text": [
      "[[ 1.         34.62365962 78.02469282]\n",
      " [ 1.         30.28671077 43.89499752]\n",
      " [ 1.         35.84740877 72.90219803]\n",
      " [ 1.         60.18259939 86.3085521 ]\n",
      " [ 1.         79.03273605 75.34437644]\n",
      " [ 1.         45.08327748 56.31637178]\n",
      " [ 1.         61.10666454 96.51142588]\n",
      " [ 1.         75.02474557 46.55401354]\n",
      " [ 1.         76.0987867  87.42056972]\n",
      " [ 1.         84.43281996 43.53339331]\n",
      " [ 1.         95.86155507 38.22527806]\n",
      " [ 1.         75.01365839 30.60326323]\n",
      " [ 1.         82.30705337 76.4819633 ]\n",
      " [ 1.         69.36458876 97.71869196]\n",
      " [ 1.         39.53833914 76.03681085]\n",
      " [ 1.         53.97105215 89.20735014]\n",
      " [ 1.         69.07014406 52.74046973]\n",
      " [ 1.         67.94685548 46.67857411]\n",
      " [ 1.         70.66150955 92.92713789]\n",
      " [ 1.         76.97878373 47.57596365]\n",
      " [ 1.         67.37202755 42.83843832]\n",
      " [ 1.         89.67677575 65.79936593]\n",
      " [ 1.         50.53478829 48.85581153]\n",
      " [ 1.         34.21206098 44.2095286 ]\n",
      " [ 1.         77.92409145 68.97235999]\n",
      " [ 1.         62.27101367 69.95445795]\n",
      " [ 1.         80.19018075 44.82162893]\n",
      " [ 1.         93.1143888  38.80067034]\n",
      " [ 1.         61.83020602 50.25610789]\n",
      " [ 1.         38.7858038  64.99568096]\n",
      " [ 1.         61.37928945 72.80788731]\n",
      " [ 1.         85.40451939 57.05198398]\n",
      " [ 1.         52.10797973 63.12762377]\n",
      " [ 1.         52.04540477 69.43286012]\n",
      " [ 1.         40.23689374 71.16774802]\n",
      " [ 1.         54.63510555 52.21388588]\n",
      " [ 1.         33.91550011 98.86943574]\n",
      " [ 1.         64.17698887 80.90806059]\n",
      " [ 1.         74.78925296 41.57341523]\n",
      " [ 1.         34.18364003 75.23772034]\n",
      " [ 1.         83.90239366 56.30804622]\n",
      " [ 1.         51.54772027 46.85629026]\n",
      " [ 1.         94.44336777 65.56892161]\n",
      " [ 1.         82.36875376 40.61825516]\n",
      " [ 1.         51.04775177 45.82270146]\n",
      " [ 1.         62.22267576 52.06099195]\n",
      " [ 1.         77.19303493 70.4582    ]\n",
      " [ 1.         97.77159928 86.72782233]\n",
      " [ 1.         62.0730638  96.76882412]\n",
      " [ 1.         91.5649745  88.69629255]\n",
      " [ 1.         79.94481794 74.16311935]\n",
      " [ 1.         99.27252693 60.999031  ]\n",
      " [ 1.         90.54671411 43.39060181]\n",
      " [ 1.         34.52451385 60.39634246]\n",
      " [ 1.         50.28649612 49.80453881]\n",
      " [ 1.         49.58667722 59.80895099]\n",
      " [ 1.         97.64563396 68.86157272]\n",
      " [ 1.         32.57720017 95.59854761]\n",
      " [ 1.         74.24869137 69.82457123]\n",
      " [ 1.         71.79646206 78.45356225]\n",
      " [ 1.         75.39561147 85.75993667]\n",
      " [ 1.         35.28611282 47.02051395]\n",
      " [ 1.         56.2538175  39.26147251]\n",
      " [ 1.         30.05882245 49.59297387]\n",
      " [ 1.         44.66826172 66.45008615]\n",
      " [ 1.         66.56089447 41.09209808]\n",
      " [ 1.         40.45755098 97.53518549]\n",
      " [ 1.         49.07256322 51.88321182]\n",
      " [ 1.         80.27957401 92.11606081]\n",
      " [ 1.         66.74671857 60.99139403]\n",
      " [ 1.         32.72283304 43.30717306]\n",
      " [ 1.         64.03932042 78.03168802]\n",
      " [ 1.         72.34649423 96.22759297]\n",
      " [ 1.         60.45788574 73.0949981 ]\n",
      " [ 1.         58.84095622 75.85844831]\n",
      " [ 1.         99.8278578  72.36925193]\n",
      " [ 1.         47.26426911 88.475865  ]\n",
      " [ 1.         50.4581598  75.80985953]\n",
      " [ 1.         60.45555629 42.50840944]\n",
      " [ 1.         82.22666158 42.71987854]\n",
      " [ 1.         88.91389642 69.8037889 ]\n",
      " [ 1.         94.83450672 45.6943068 ]\n",
      " [ 1.         67.31925747 66.58935318]\n",
      " [ 1.         57.23870632 59.51428198]\n",
      " [ 1.         80.366756   90.9601479 ]\n",
      " [ 1.         68.46852179 85.5943071 ]\n",
      " [ 1.         42.07545454 78.844786  ]\n",
      " [ 1.         75.47770201 90.424539  ]\n",
      " [ 1.         78.63542435 96.64742717]\n",
      " [ 1.         52.34800399 60.76950526]\n",
      " [ 1.         94.09433113 77.15910509]\n",
      " [ 1.         90.44855097 87.50879176]\n",
      " [ 1.         55.48216114 35.57070347]\n",
      " [ 1.         74.49269242 84.84513685]\n",
      " [ 1.         89.84580671 45.35828361]\n",
      " [ 1.         83.48916274 48.3802858 ]\n",
      " [ 1.         42.26170081 87.10385094]\n",
      " [ 1.         99.31500881 68.77540947]\n",
      " [ 1.         55.34001756 64.93193801]\n",
      " [ 1.         74.775893   89.5298129 ]] [0 0 0 1 1 0 1 1 1 1 0 0 1 1 0 1 1 0 1 1 0 1 0 0 1 1 1 0 0 0 1 1 0 1 0 0 0\n",
      " 1 0 0 1 0 1 0 0 0 1 1 1 1 1 1 1 0 0 0 1 0 1 1 1 0 0 0 0 0 1 0 1 1 0 1 1 1\n",
      " 1 1 1 1 0 0 1 1 1 1 1 1 0 1 1 0 1 1 0 1 1 1 1 1 1 1]\n"
     ]
    }
   ],
   "source": [
    "print(X,Y)"
   ]
  },
  {
   "cell_type": "markdown",
   "metadata": {},
   "source": [
    "theta값 초기화"
   ]
  },
  {
   "cell_type": "code",
   "execution_count": 12,
   "metadata": {},
   "outputs": [],
   "source": [
    "def init_theta():\n",
    "    #-100 부터 100까지의 랜덤 변수\n",
    "    theta0 = random()*10.-5.;\n",
    "    theta1 = random()*10.-5.;\n",
    "    theta2 = random()*10.-5.;\n",
    "    \n",
    "    return theta0,theta1,theta2;"
   ]
  },
  {
   "cell_type": "markdown",
   "metadata": {},
   "source": [
    "sigmoid 함수 정의"
   ]
  },
  {
   "cell_type": "code",
   "execution_count": 13,
   "metadata": {},
   "outputs": [],
   "source": [
    "def sigmoid(x):\n",
    "    return 1/(1+np.exp(-x));"
   ]
  },
  {
   "cell_type": "markdown",
   "metadata": {},
   "source": [
    "cost 함수 정의"
   ]
  },
  {
   "cell_type": "code",
   "execution_count": 14,
   "metadata": {},
   "outputs": [],
   "source": [
    "def compute_cost(theta0, theta1,theta2, X,Y):\n",
    "    total_cost = 0;\n",
    "    N =0; #코스트 값을 나눌때 자동형변환을 방지하기위해 float로 형변환\n",
    "    \n",
    "    for i in range(len(Y)):\n",
    "        x0 = X[i,0];\n",
    "        x1 = X[i,1];\n",
    "        x2 = X[i,2];\n",
    "        y = Y[i];\n",
    "        total_cost += (y*np.log(sigmoid(theta0*x0 + theta1*x1 + theta2 * x2)+0.00000001)+(1-y)*np.log(1.00000001-sigmoid(theta0*x0 + theta1*x1 + theta2 * x2))); \n",
    "    \n",
    "        N+=1;\n",
    "    return total_cost/float(N)*(-1); #에러값의 제곱값의 합을 개수로 나눈것을 코스트값이라 정의한다"
   ]
  },
  {
   "cell_type": "code",
   "execution_count": 15,
   "metadata": {},
   "outputs": [
    {
     "name": "stdout",
     "output_type": "stream",
     "text": [
      "-2.012055383717809 1.0971541333846604 -3.3087898900650847\n",
      "11.052408442379976\n"
     ]
    }
   ],
   "source": [
    "theta0,theta1,theta2 = init_theta();\n",
    "print(theta0,theta1,theta2);\n",
    "print(compute_cost(theta0,theta1,theta2,X,Y))"
   ]
  },
  {
   "cell_type": "code",
   "execution_count": 54,
   "metadata": {},
   "outputs": [],
   "source": [
    "def step_gradient(theta0_current, theta1_current,theta2_current, X,Y, learing_rate):\n",
    "    theta0_gradient = 0;\n",
    "    theta1_gradient = 0;\n",
    "    theta2_gradient = 0;\n",
    "    N = float(len(Y));\n",
    "    \n",
    "    \n",
    "    for i in range(len(Y)):\n",
    "        x0 = X[i,0];\n",
    "        x1 = X[i,1];\n",
    "        x2 = X[i,2];\n",
    "        y = Y[i];\n",
    "        #print(x0,x1,x2,y)\n",
    "        #현재 theta값에서의 기울기(경사도)를 구한다 1/N을 해야하는지 모르겠음...\n",
    "        theta0_gradient += (1/N)*(sigmoid(theta0*x0 + theta1*x1 + theta2 * x2)-y)*x0;\n",
    "        theta1_gradient += (1/N)*(sigmoid(theta0*x0 + theta1*x1 + theta2 * x2)-y)*x1;\n",
    "        theta2_gradient += (1/N)*(sigmoid(theta0*x0 + theta1*x1 + theta2 * x2)-y)*x2;\n",
    "        #print(theta0_gradient,theta1_gradient,theta2_gradient)\n",
    "        \n",
    "                \n",
    "    #위에서 구한 경사도에 따라 경사를 따라 내려간다\n",
    "    theta0_updated = theta0_current - learing_rate * theta0_gradient;\n",
    "    theta1_updated = theta1_current - learing_rate * theta1_gradient;\n",
    "    theta2_updated = theta2_current - learing_rate * theta2_gradient;\n",
    "    \n",
    "    return theta0_updated, theta1_updated,theta2_updated; #업데이트 된 값을 반환한다"
   ]
  },
  {
   "cell_type": "code",
   "execution_count": 55,
   "metadata": {},
   "outputs": [],
   "source": [
    "def gradient_descent_runner(X,Y, starting_theta0, starting_theta1,starting_theta2, learning_rate, num_iterations):\n",
    "    #초기값으로 부터 gradient descent를 실행한다\n",
    "    theta0 = starting_theta0;\n",
    "    theta1 = starting_theta1;\n",
    "    theta2 = starting_theta2;\n",
    "    \n",
    "    #원하는 반복 수 만큼 경사를 따라 내려간다\n",
    "    for i in range(num_iterations):\n",
    "         #현재 m,n,points에 따른 코스트 값\n",
    "        theta0, theta1,theta2 = step_gradient(theta0, theta1,theta2, X,Y, learning_rate); #경사를 내려가는 스텝\n",
    "    return [theta0, theta1,theta2]"
   ]
  },
  {
   "cell_type": "code",
   "execution_count": 56,
   "metadata": {},
   "outputs": [],
   "source": [
    "def predict_each(x0,x1,x2,theta0,theta1,theta2):\n",
    "    return sigmoid(theta0*x0 + theta1*x1 + theta2 * x2);"
   ]
  },
  {
   "cell_type": "code",
   "execution_count": 81,
   "metadata": {},
   "outputs": [],
   "source": [
    "def predict(X,theta0,theta1,theta2):\n",
    "    y = [];\n",
    "    theta = np.array([theta0,theta1,theta2]);\n",
    "    for i in range(len(X)):\n",
    "        if(sigmoid(theta0*X[i,0] + theta1*X[i,1] + theta2 *X[i,2]) > 0.5):\n",
    "            y.append(1);\n",
    "        else:\n",
    "            y.append(0);\n",
    "        \n",
    "    return np.rint(sigmoid(np.dot(X,theta)));"
   ]
  },
  {
   "cell_type": "code",
   "execution_count": 101,
   "metadata": {
    "scrolled": false
   },
   "outputs": [],
   "source": [
    "learning_rate = 0.001    # hyper parameter: alpha\n",
    "num_iterations = 1    # hyper parameter: number of steps \n",
    "init_theta0 ,init_theta1,init_theta2 =  init_theta();\n",
    "gd_iterations = 1000; #GD를 반복하는 횟수 \n",
    "\n",
    "\n",
    "#init_theta0 = -300.655045690432873;init_theta1 = 2.554738039523885;init_theta2 = 2.3753159261501366;\n",
    "\n",
    "\n",
    "#각 gd스텝을 저장할 theta의 리스트\n",
    "theta0_list = [];\n",
    "theta1_list = [];\n",
    "theta2_list = [];\n",
    "cost_list = [];\n",
    "\n",
    "#0번째 값\n",
    "theta0_list.append(init_theta0);\n",
    "theta1_list.append(init_theta1);\n",
    "theta2_list.append(init_theta2);\n",
    "\n",
    "\n",
    "for i in range(gd_iterations):\n",
    "    theta0, theta1,theta2 = gradient_descent_runner(X,Y, init_theta0,init_theta1,init_theta2, learning_rate, num_iterations)\n",
    "    theta0_list.append(theta0);\n",
    "    theta1_list.append(theta1);\n",
    "    theta2_list.append(theta2);\n",
    "    cost = compute_cost(theta0,theta1,theta2,X,Y);\n",
    "    cost_list.append(cost);\n",
    "    \n",
    "    init_theta0 = theta0;\n",
    "    init_theta1 = theta1;\n",
    "    init_theta2 = theta2;\n",
    "\n",
    "  "
   ]
  },
  {
   "cell_type": "markdown",
   "metadata": {},
   "source": [
    "cost함수의 감소를 확인한다"
   ]
  },
  {
   "cell_type": "code",
   "execution_count": 103,
   "metadata": {
    "scrolled": false
   },
   "outputs": [
    {
     "data": {
      "text/plain": [
       "[<matplotlib.lines.Line2D at 0x20c2be0f550>]"
      ]
     },
     "execution_count": 103,
     "metadata": {},
     "output_type": "execute_result"
    },
    {
     "data": {
      "image/png": "[encoded data removed]",
      "text/plain": [
       "<Figure size 432x288 with 1 Axes>"
      ]
     },
     "metadata": {
      "needs_background": "light"
     },
     "output_type": "display_data"
    }
   ],
   "source": [
    "cost_x = np.linspace(0, len(cost_list), len(cost_list))\n",
    "#print(cost_x)\n",
    "#print(cost_list)  \n",
    "plt.plot(cost_x,cost_list)"
   ]
  },
  {
   "cell_type": "code",
   "execution_count": 82,
   "metadata": {},
   "outputs": [],
   "source": [
    "pred_y = predict(X,theta0,theta1,theta2)"
   ]
  },
  {
   "cell_type": "code",
   "execution_count": 83,
   "metadata": {},
   "outputs": [
    {
     "data": {
      "text/plain": [
       "array([0., 0., 0., 1., 1., 0., 1., 1., 1., 1., 1., 0., 1., 1., 0., 1., 1.,\n",
       "       1., 1., 1., 0., 1., 0., 0., 1., 1., 1., 1., 0., 0., 1., 1., 0., 1.,\n",
       "       0., 0., 1., 1., 1., 0., 1., 0., 1., 1., 0., 0., 1., 1., 1., 1., 1.,\n",
       "       1., 1., 0., 0., 0., 1., 1., 1., 1., 1., 0., 0., 0., 0., 0., 1., 0.,\n",
       "       1., 1., 0., 1., 1., 1., 1., 1., 1., 1., 0., 1., 1., 1., 1., 1., 1.,\n",
       "       1., 1., 1., 1., 0., 1., 1., 0., 1., 1., 1., 1., 1., 1., 1.])"
      ]
     },
     "execution_count": 83,
     "metadata": {},
     "output_type": "execute_result"
    }
   ],
   "source": [
    "pred_y"
   ]
  },
  {
   "cell_type": "code",
   "execution_count": 85,
   "metadata": {
    "scrolled": true
   },
   "outputs": [
    {
     "data": {
      "text/plain": [
       "array([0, 0, 0, 1, 1, 0, 1, 1, 1, 1, 0, 0, 1, 1, 0, 1, 1, 0, 1, 1, 0, 1,\n",
       "       0, 0, 1, 1, 1, 0, 0, 0, 1, 1, 0, 1, 0, 0, 0, 1, 0, 0, 1, 0, 1, 0,\n",
       "       0, 0, 1, 1, 1, 1, 1, 1, 1, 0, 0, 0, 1, 0, 1, 1, 1, 0, 0, 0, 0, 0,\n",
       "       1, 0, 1, 1, 0, 1, 1, 1, 1, 1, 1, 1, 0, 0, 1, 1, 1, 1, 1, 1, 0, 1,\n",
       "       1, 0, 1, 1, 0, 1, 1, 1, 1, 1, 1, 1], dtype=int64)"
      ]
     },
     "execution_count": 85,
     "metadata": {},
     "output_type": "execute_result"
    }
   ],
   "source": [
    "Y"
   ]
  },
  {
   "cell_type": "markdown",
   "metadata": {},
   "source": [
    "실제값과 예측값의 차이를 비교해 정확도를 측정한다"
   ]
  },
  {
   "cell_type": "code",
   "execution_count": 89,
   "metadata": {},
   "outputs": [
    {
     "data": {
      "text/plain": [
       "array([0., 0., 0., 0., 0., 0., 0., 0., 0., 0., 1., 0., 0., 0., 0., 0., 0.,\n",
       "       1., 0., 0., 0., 0., 0., 0., 0., 0., 0., 1., 0., 0., 0., 0., 0., 0.,\n",
       "       0., 0., 1., 0., 1., 0., 0., 0., 0., 1., 0., 0., 0., 0., 0., 0., 0.,\n",
       "       0., 0., 0., 0., 0., 0., 1., 0., 0., 0., 0., 0., 0., 0., 0., 0., 0.,\n",
       "       0., 0., 0., 0., 0., 0., 0., 0., 0., 0., 0., 1., 0., 0., 0., 0., 0.,\n",
       "       0., 1., 0., 0., 0., 0., 0., 0., 0., 0., 0., 0., 0., 0., 0.])"
      ]
     },
     "execution_count": 89,
     "metadata": {},
     "output_type": "execute_result"
    }
   ],
   "source": [
    "acc_matrix = np.absolute(pred_y - Y)\n",
    "acc_matrix\n"
   ]
  },
  {
   "cell_type": "code",
   "execution_count": 90,
   "metadata": {
    "scrolled": false
   },
   "outputs": [
    {
     "data": {
      "text/plain": [
       "9.0"
      ]
     },
     "execution_count": 90,
     "metadata": {},
     "output_type": "execute_result"
    }
   ],
   "source": [
    "sum = acc_matrix.sum()\n",
    "sum"
   ]
  },
  {
   "cell_type": "code",
   "execution_count": 93,
   "metadata": {
    "scrolled": true
   },
   "outputs": [
    {
     "data": {
      "text/plain": [
       "91.0"
      ]
     },
     "execution_count": 93,
     "metadata": {},
     "output_type": "execute_result"
    }
   ],
   "source": [
    "accuray = (1-sum/len(Y))*100\n",
    "accuray"
   ]
  },
  {
   "cell_type": "code",
   "execution_count": 95,
   "metadata": {},
   "outputs": [
    {
     "name": "stdout",
     "output_type": "stream",
     "text": [
      "-4.836356283867065 0.04546594162994496 0.038384697848911555\n"
     ]
    }
   ],
   "source": [
    "print(theta0,theta1,theta2)"
   ]
  },
  {
   "cell_type": "markdown",
   "metadata": {},
   "source": [
    "### 3. 위에서 구한 $\\theta$들을 이용하여 decision boundary를 그려보자. \n",
    "왜 그렇게 그리게 되었는지 서술하시오. "
   ]
  },
  {
   "cell_type": "markdown",
   "metadata": {},
   "source": [
    "$ \\theta_0*x0 + \\theta_1*x1 + \\theta_2* x2 = 0 $ 인 수식을 풀어야한다"
   ]
  },
  {
   "cell_type": "markdown",
   "metadata": {},
   "source": [
    "x0 = 1 이고 x1은 x축 x2는 y축이므로"
   ]
  },
  {
   "cell_type": "markdown",
   "metadata": {},
   "source": [
    "$ y = -(\\theta_0 + \\theta_1*x1)/\\theta_2 $"
   ]
  },
  {
   "cell_type": "code",
   "execution_count": 80,
   "metadata": {
    "scrolled": true
   },
   "outputs": [
    {
     "name": "stdout",
     "output_type": "stream",
     "text": [
      "0.38657057454564375\n"
     ]
    },
    {
     "data": {
      "image/png": "[encoded data removed]",
      "text/plain": [
       "<Figure size 432x288 with 1 Axes>"
      ]
     },
     "metadata": {
      "needs_background": "light"
     },
     "output_type": "display_data"
    }
   ],
   "source": [
    "#theta0 =-300.655045690432873\n",
    "#theta1 = 2.554738039523885\n",
    "#theta2 =  2.3753159261501366\n",
    "print(compute_cost(theta0,theta1,theta2,X,Y))\n",
    "bound_x = np.linspace(30, 100, 50)\n",
    "bound_y = -(theta0 + theta1*bound_x)/theta2\n",
    "plt.plot(bound_x, bound_y)\n",
    "plt.scatter(X[Y == 1, 1], X[Y == 1, 2], c='blue', label='Released')\n",
    "plt.scatter(X[Y == 0, 1], X[Y == 0, 2], c='red', label='Faulty')\n",
    "plt.legend();"
   ]
  },
  {
   "cell_type": "markdown",
   "metadata": {},
   "source": [
    "sklearn의 logistic regression을 사용했을 때"
   ]
  },
  {
   "cell_type": "code",
   "execution_count": 193,
   "metadata": {},
   "outputs": [],
   "source": [
    "from sklearn.linear_model import LogisticRegression"
   ]
  },
  {
   "cell_type": "code",
   "execution_count": 194,
   "metadata": {},
   "outputs": [],
   "source": [
    "logisticReg = LogisticRegression();"
   ]
  },
  {
   "cell_type": "code",
   "execution_count": 195,
   "metadata": {
    "scrolled": false
   },
   "outputs": [
    {
     "name": "stderr",
     "output_type": "stream",
     "text": [
      "d:\\python\\python37\\lib\\site-packages\\sklearn\\linear_model\\logistic.py:433: FutureWarning: Default solver will be changed to 'lbfgs' in 0.22. Specify a solver to silence this warning.\n",
      "  FutureWarning)\n"
     ]
    }
   ],
   "source": [
    "logisticReg.fit(X,Y);"
   ]
  },
  {
   "cell_type": "code",
   "execution_count": 196,
   "metadata": {},
   "outputs": [
    {
     "data": {
      "text/plain": [
       "0.91"
      ]
     },
     "execution_count": 196,
     "metadata": {},
     "output_type": "execute_result"
    }
   ],
   "source": [
    "score = logisticReg.score(X,Y);\n",
    "score"
   ]
  },
  {
   "cell_type": "code",
   "execution_count": 203,
   "metadata": {},
   "outputs": [
    {
     "data": {
      "text/plain": [
       "array([[-2.85831439,  0.05214733,  0.04531467]])"
      ]
     },
     "execution_count": 203,
     "metadata": {},
     "output_type": "execute_result"
    }
   ],
   "source": [
    "logisticReg.coef_"
   ]
  },
  {
   "cell_type": "markdown",
   "metadata": {},
   "source": [
    "### 4. Stochastic Gradient Decsent 란 GD를 빠르게 수행하는 알고리즘으로 샘플 100개를 다 방문하는게 아니라 각 스텝별 임의로 샘플을 하나 골라 GD를 수행하는 알고리즘이다. SGD로 2번을 반복하시오."
   ]
  },
  {
   "cell_type": "code",
   "execution_count": 129,
   "metadata": {},
   "outputs": [],
   "source": [
    "def step_SGD(theta0_current, theta1_current,theta2_current, X,Y, learing_rate):\n",
    "    theta0_gradient = 0;\n",
    "    theta1_gradient = 0;\n",
    "    theta2_gradient = 0;\n",
    "    N = float(len(Y));\n",
    "    \n",
    "    #데이터중 랜덤으로 하나를 추출한다\n",
    "    i = np.random.randint(len(Y))\n",
    "    x0 = X[i,0];\n",
    "    x1 = X[i,1];\n",
    "    x2 = X[i,2];\n",
    "    y = Y[i];\n",
    "    #현재 theta값에서의 기울기(경사도)를 구한다\n",
    "    theta0_gradient += (sigmoid(theta0*x0 + theta1*x1 + theta2 * x2)-y)*x0;\n",
    "    theta1_gradient += (sigmoid(theta0*x0 + theta1*x1 + theta2 * x2)-y)*x1;\n",
    "    theta2_gradient += (sigmoid(theta0*x0 + theta1*x1 + theta2 * x2)-y)*x2;\n",
    "                \n",
    "    #위에서 구한 경사도에 따라 경사를 따라 내려간다\n",
    "    theta0_updated = theta0_current - learing_rate * theta0_gradient;\n",
    "    theta1_updated = theta1_current - learing_rate * theta1_gradient;\n",
    "    theta2_updated = theta2_current - learing_rate * theta2_gradient;\n",
    "    \n",
    "    return theta0_updated, theta1_updated,theta2_updated; #업데이트 된 값을 반환한다"
   ]
  },
  {
   "cell_type": "markdown",
   "metadata": {},
   "source": [
    "SGD를 2번 반복하면"
   ]
  },
  {
   "cell_type": "code",
   "execution_count": 142,
   "metadata": {},
   "outputs": [],
   "source": [
    "learning_rate = 0.01;\n",
    "init_theta0 ,init_theta1,init_theta2 =  init_theta();\n",
    "second_theta0, second_theta1,second_theta2 = step_SGD(init_theta0, init_theta1,init_theta2, X,Y, learning_rate);\n",
    "theta0, theta1,theta2 = step_SGD(second_theta0, second_theta1,second_theta2, X,Y, learning_rate);"
   ]
  },
  {
   "cell_type": "code",
   "execution_count": 145,
   "metadata": {},
   "outputs": [
    {
     "name": "stdout",
     "output_type": "stream",
     "text": [
      "7.368272294011933\n"
     ]
    },
    {
     "data": {
      "image/png": "[encoded data removed]",
      "text/plain": [
       "<Figure size 432x288 with 1 Axes>"
      ]
     },
     "metadata": {
      "needs_background": "light"
     },
     "output_type": "display_data"
    }
   ],
   "source": [
    "print(compute_cost(theta0,theta1,theta2,X,Y))\n",
    "bound_x = np.linspace(30, 100, 50)\n",
    "bound_y = -(theta0 + theta1*bound_x)/theta2\n",
    "plt.plot(bound_x, bound_y)\n",
    "plt.scatter(X[Y == 1, 1], X[Y == 1, 2], c='blue', label='Released')\n",
    "plt.scatter(X[Y == 0, 1], X[Y == 0, 2], c='red', label='Faulty')\n",
    "plt.legend();"
   ]
  },
  {
   "cell_type": "markdown",
   "metadata": {},
   "source": [
    "적절히 학습시키기 위해 반복 횟수를 늘려보면"
   ]
  },
  {
   "cell_type": "code",
   "execution_count": 138,
   "metadata": {},
   "outputs": [],
   "source": [
    "learning_rate = 0.00001\n",
    "num_iterations = 100000;\n",
    "init_theta0 ,init_theta1,init_theta2 =  init_theta();\n",
    "\n",
    "\n",
    "#각 gd스텝을 저장할 theta의 리스트\n",
    "theta0_list = [];\n",
    "theta1_list = [];\n",
    "theta2_list = [];\n",
    "cost_list = [];\n",
    "\n",
    "#0번째 값\n",
    "theta0_list.append(init_theta0);\n",
    "theta1_list.append(init_theta1);\n",
    "theta2_list.append(init_theta2);\n",
    "\n",
    "for i in range(num_iterations):\n",
    "    #현재 m,n,points에 따른 코스트 값\n",
    "    theta0, theta1,theta2 = step_SGD(init_theta0, init_theta1,init_theta2, X,Y, learning_rate); #경사를 내려가는 스텝\n",
    "    theta0_list.append(theta0);\n",
    "    theta1_list.append(theta1);\n",
    "    theta2_list.append(theta2);\n",
    "    cost = compute_cost(theta0,theta1,theta2,X,Y);\n",
    "    cost_list.append(cost);\n",
    "    init_theta0 = theta0;\n",
    "    init_theta1 = theta1;\n",
    "    init_theta2 = theta2;\n",
    "        "
   ]
  },
  {
   "cell_type": "code",
   "execution_count": 139,
   "metadata": {
    "scrolled": true
   },
   "outputs": [
    {
     "data": {
      "text/plain": [
       "[<matplotlib.lines.Line2D at 0x20c2dcfc898>]"
      ]
     },
     "execution_count": 139,
     "metadata": {},
     "output_type": "execute_result"
    },
    {
     "data": {
      "image/png": "[encoded data removed]",
      "text/plain": [
       "<Figure size 432x288 with 1 Axes>"
      ]
     },
     "metadata": {
      "needs_background": "light"
     },
     "output_type": "display_data"
    }
   ],
   "source": [
    "cost_x = bound_x = np.linspace(0, len(cost_list), len(cost_list))\n",
    "#print(cost_x)\n",
    "#print(cost_list)  \n",
    "plt.plot(cost_x,cost_list)"
   ]
  },
  {
   "cell_type": "code",
   "execution_count": 140,
   "metadata": {
    "scrolled": false
   },
   "outputs": [
    {
     "name": "stdout",
     "output_type": "stream",
     "text": [
      "0.4948684940150035\n"
     ]
    },
    {
     "data": {
      "image/png": "[encoded data removed]",
      "text/plain": [
       "<Figure size 432x288 with 1 Axes>"
      ]
     },
     "metadata": {
      "needs_background": "light"
     },
     "output_type": "display_data"
    }
   ],
   "source": [
    "print(compute_cost(theta0,theta1,theta2,X,Y))\n",
    "bound_x = np.linspace(30, 100, 50)\n",
    "bound_y = -(theta0 + theta1*bound_x)/theta2\n",
    "plt.plot(bound_x, bound_y)\n",
    "plt.scatter(X[Y == 1, 1], X[Y == 1, 2], c='blue', label='Released')\n",
    "plt.scatter(X[Y == 0, 1], X[Y == 0, 2], c='red', label='Faulty')\n",
    "plt.legend();"
   ]
  },
  {
   "cell_type": "code",
   "execution_count": 141,
   "metadata": {},
   "outputs": [
    {
     "name": "stdout",
     "output_type": "stream",
     "text": [
      "80.0\n"
     ]
    }
   ],
   "source": [
    "pred_y = predict(X,theta0,theta1,theta2)\n",
    "acc_matrix = np.absolute(pred_y - Y)\n",
    "sum = acc_matrix.sum()\n",
    "accuray = (1-sum/len(Y))*100\n",
    "print(accuray)"
   ]
  }
 ],
 "metadata": {
  "kernelspec": {
   "display_name": "Python 3",
   "language": "python",
   "name": "python3"
  },
  "language_info": {
   "codemirror_mode": {
    "name": "ipython",
    "version": 3
   },
   "file_extension": ".py",
   "mimetype": "text/x-python",
   "name": "python",
   "nbconvert_exporter": "python",
   "pygments_lexer": "ipython3",
   "version": "3.7.1"
  }
 },
 "nbformat": 4,
 "nbformat_minor": 2
}
